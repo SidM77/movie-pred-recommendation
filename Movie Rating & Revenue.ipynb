{
 "cells": [
  {
   "cell_type": "code",
   "execution_count": 68,
   "id": "14a79368-358e-4faf-a8a4-98f84e996e79",
   "metadata": {
    "pycharm": {
     "is_executing": true
    }
   },
   "outputs": [],
   "source": [
    "# Importing libraries\n",
    "\n",
    "import pandas as pd\n",
    "import numpy as np\n",
    "import datetime as dt\n",
    "from matplotlib import pyplot as plt\n",
    "import seaborn as sns\n",
    "import json\n",
    "from sklearn import preprocessing\n",
    "from sklearn.model_selection import train_test_split\n",
    "from sklearn.metrics import mean_absolute_percentage_error\n",
    "from sklearn.preprocessing import MinMaxScaler, RobustScaler, StandardScaler\n",
    "from sklearn import svm\n",
    "pd.set_option('display.float_format', lambda x: '%.3f' % x)\n"
   ]
  },
  {
   "cell_type": "code",
   "execution_count": 69,
   "id": "2532daa4",
   "metadata": {
    "pycharm": {
     "is_executing": true
    }
   },
   "outputs": [
    {
     "data": {
      "text/plain": [
       "1.0"
      ]
     },
     "execution_count": 69,
     "metadata": {},
     "output_type": "execute_result"
    }
   ],
   "source": [
    "y_true = [3]\n",
    "y_pred = [6]\n",
    "mean_absolute_percentage_error(y_true, y_pred)"
   ]
  },
  {
   "cell_type": "code",
   "execution_count": 70,
   "id": "7ff17ee8-4122-42bf-8892-a43f7a017221",
   "metadata": {
    "pycharm": {
     "is_executing": true
    }
   },
   "outputs": [
    {
     "data": {
      "text/html": [
       "<div>\n",
       "<style scoped>\n",
       "    .dataframe tbody tr th:only-of-type {\n",
       "        vertical-align: middle;\n",
       "    }\n",
       "\n",
       "    .dataframe tbody tr th {\n",
       "        vertical-align: top;\n",
       "    }\n",
       "\n",
       "    .dataframe thead th {\n",
       "        text-align: right;\n",
       "    }\n",
       "</style>\n",
       "<table border=\"1\" class=\"dataframe\">\n",
       "  <thead>\n",
       "    <tr style=\"text-align: right;\">\n",
       "      <th></th>\n",
       "      <th>budget</th>\n",
       "      <th>genres</th>\n",
       "      <th>homepage</th>\n",
       "      <th>id</th>\n",
       "      <th>keywords</th>\n",
       "      <th>original_language</th>\n",
       "      <th>original_title</th>\n",
       "      <th>overview</th>\n",
       "      <th>popularity</th>\n",
       "      <th>production_companies</th>\n",
       "      <th>production_countries</th>\n",
       "      <th>release_date</th>\n",
       "      <th>revenue</th>\n",
       "      <th>runtime</th>\n",
       "      <th>spoken_languages</th>\n",
       "      <th>status</th>\n",
       "      <th>tagline</th>\n",
       "      <th>title</th>\n",
       "      <th>vote_average</th>\n",
       "      <th>vote_count</th>\n",
       "    </tr>\n",
       "  </thead>\n",
       "  <tbody>\n",
       "    <tr>\n",
       "      <th>0</th>\n",
       "      <td>237000000</td>\n",
       "      <td>[{\"id\": 28, \"name\": \"Action\"}, {\"id\": 12, \"nam...</td>\n",
       "      <td>http://www.avatarmovie.com/</td>\n",
       "      <td>19995</td>\n",
       "      <td>[{\"id\": 1463, \"name\": \"culture clash\"}, {\"id\":...</td>\n",
       "      <td>en</td>\n",
       "      <td>Avatar</td>\n",
       "      <td>In the 22nd century, a paraplegic Marine is di...</td>\n",
       "      <td>150.438</td>\n",
       "      <td>[{\"name\": \"Ingenious Film Partners\", \"id\": 289...</td>\n",
       "      <td>[{\"iso_3166_1\": \"US\", \"name\": \"United States o...</td>\n",
       "      <td>2009-12-10</td>\n",
       "      <td>2787965087</td>\n",
       "      <td>162.000</td>\n",
       "      <td>[{\"iso_639_1\": \"en\", \"name\": \"English\"}, {\"iso...</td>\n",
       "      <td>Released</td>\n",
       "      <td>Enter the World of Pandora.</td>\n",
       "      <td>Avatar</td>\n",
       "      <td>7.200</td>\n",
       "      <td>11800</td>\n",
       "    </tr>\n",
       "    <tr>\n",
       "      <th>1</th>\n",
       "      <td>300000000</td>\n",
       "      <td>[{\"id\": 12, \"name\": \"Adventure\"}, {\"id\": 14, \"...</td>\n",
       "      <td>http://disney.go.com/disneypictures/pirates/</td>\n",
       "      <td>285</td>\n",
       "      <td>[{\"id\": 270, \"name\": \"ocean\"}, {\"id\": 726, \"na...</td>\n",
       "      <td>en</td>\n",
       "      <td>Pirates of the Caribbean: At World's End</td>\n",
       "      <td>Captain Barbossa, long believed to be dead, ha...</td>\n",
       "      <td>139.083</td>\n",
       "      <td>[{\"name\": \"Walt Disney Pictures\", \"id\": 2}, {\"...</td>\n",
       "      <td>[{\"iso_3166_1\": \"US\", \"name\": \"United States o...</td>\n",
       "      <td>2007-05-19</td>\n",
       "      <td>961000000</td>\n",
       "      <td>169.000</td>\n",
       "      <td>[{\"iso_639_1\": \"en\", \"name\": \"English\"}]</td>\n",
       "      <td>Released</td>\n",
       "      <td>At the end of the world, the adventure begins.</td>\n",
       "      <td>Pirates of the Caribbean: At World's End</td>\n",
       "      <td>6.900</td>\n",
       "      <td>4500</td>\n",
       "    </tr>\n",
       "    <tr>\n",
       "      <th>2</th>\n",
       "      <td>245000000</td>\n",
       "      <td>[{\"id\": 28, \"name\": \"Action\"}, {\"id\": 12, \"nam...</td>\n",
       "      <td>http://www.sonypictures.com/movies/spectre/</td>\n",
       "      <td>206647</td>\n",
       "      <td>[{\"id\": 470, \"name\": \"spy\"}, {\"id\": 818, \"name...</td>\n",
       "      <td>en</td>\n",
       "      <td>Spectre</td>\n",
       "      <td>A cryptic message from Bond’s past sends him o...</td>\n",
       "      <td>107.377</td>\n",
       "      <td>[{\"name\": \"Columbia Pictures\", \"id\": 5}, {\"nam...</td>\n",
       "      <td>[{\"iso_3166_1\": \"GB\", \"name\": \"United Kingdom\"...</td>\n",
       "      <td>2015-10-26</td>\n",
       "      <td>880674609</td>\n",
       "      <td>148.000</td>\n",
       "      <td>[{\"iso_639_1\": \"fr\", \"name\": \"Fran\\u00e7ais\"},...</td>\n",
       "      <td>Released</td>\n",
       "      <td>A Plan No One Escapes</td>\n",
       "      <td>Spectre</td>\n",
       "      <td>6.300</td>\n",
       "      <td>4466</td>\n",
       "    </tr>\n",
       "    <tr>\n",
       "      <th>3</th>\n",
       "      <td>250000000</td>\n",
       "      <td>[{\"id\": 28, \"name\": \"Action\"}, {\"id\": 80, \"nam...</td>\n",
       "      <td>http://www.thedarkknightrises.com/</td>\n",
       "      <td>49026</td>\n",
       "      <td>[{\"id\": 849, \"name\": \"dc comics\"}, {\"id\": 853,...</td>\n",
       "      <td>en</td>\n",
       "      <td>The Dark Knight Rises</td>\n",
       "      <td>Following the death of District Attorney Harve...</td>\n",
       "      <td>112.313</td>\n",
       "      <td>[{\"name\": \"Legendary Pictures\", \"id\": 923}, {\"...</td>\n",
       "      <td>[{\"iso_3166_1\": \"US\", \"name\": \"United States o...</td>\n",
       "      <td>2012-07-16</td>\n",
       "      <td>1084939099</td>\n",
       "      <td>165.000</td>\n",
       "      <td>[{\"iso_639_1\": \"en\", \"name\": \"English\"}]</td>\n",
       "      <td>Released</td>\n",
       "      <td>The Legend Ends</td>\n",
       "      <td>The Dark Knight Rises</td>\n",
       "      <td>7.600</td>\n",
       "      <td>9106</td>\n",
       "    </tr>\n",
       "    <tr>\n",
       "      <th>4</th>\n",
       "      <td>260000000</td>\n",
       "      <td>[{\"id\": 28, \"name\": \"Action\"}, {\"id\": 12, \"nam...</td>\n",
       "      <td>http://movies.disney.com/john-carter</td>\n",
       "      <td>49529</td>\n",
       "      <td>[{\"id\": 818, \"name\": \"based on novel\"}, {\"id\":...</td>\n",
       "      <td>en</td>\n",
       "      <td>John Carter</td>\n",
       "      <td>John Carter is a war-weary, former military ca...</td>\n",
       "      <td>43.927</td>\n",
       "      <td>[{\"name\": \"Walt Disney Pictures\", \"id\": 2}]</td>\n",
       "      <td>[{\"iso_3166_1\": \"US\", \"name\": \"United States o...</td>\n",
       "      <td>2012-03-07</td>\n",
       "      <td>284139100</td>\n",
       "      <td>132.000</td>\n",
       "      <td>[{\"iso_639_1\": \"en\", \"name\": \"English\"}]</td>\n",
       "      <td>Released</td>\n",
       "      <td>Lost in our world, found in another.</td>\n",
       "      <td>John Carter</td>\n",
       "      <td>6.100</td>\n",
       "      <td>2124</td>\n",
       "    </tr>\n",
       "    <tr>\n",
       "      <th>5</th>\n",
       "      <td>258000000</td>\n",
       "      <td>[{\"id\": 14, \"name\": \"Fantasy\"}, {\"id\": 28, \"na...</td>\n",
       "      <td>http://www.sonypictures.com/movies/spider-man3/</td>\n",
       "      <td>559</td>\n",
       "      <td>[{\"id\": 851, \"name\": \"dual identity\"}, {\"id\": ...</td>\n",
       "      <td>en</td>\n",
       "      <td>Spider-Man 3</td>\n",
       "      <td>The seemingly invincible Spider-Man goes up ag...</td>\n",
       "      <td>115.700</td>\n",
       "      <td>[{\"name\": \"Columbia Pictures\", \"id\": 5}, {\"nam...</td>\n",
       "      <td>[{\"iso_3166_1\": \"US\", \"name\": \"United States o...</td>\n",
       "      <td>2007-05-01</td>\n",
       "      <td>890871626</td>\n",
       "      <td>139.000</td>\n",
       "      <td>[{\"iso_639_1\": \"en\", \"name\": \"English\"}, {\"iso...</td>\n",
       "      <td>Released</td>\n",
       "      <td>The battle within.</td>\n",
       "      <td>Spider-Man 3</td>\n",
       "      <td>5.900</td>\n",
       "      <td>3576</td>\n",
       "    </tr>\n",
       "    <tr>\n",
       "      <th>6</th>\n",
       "      <td>260000000</td>\n",
       "      <td>[{\"id\": 16, \"name\": \"Animation\"}, {\"id\": 10751...</td>\n",
       "      <td>http://disney.go.com/disneypictures/tangled/</td>\n",
       "      <td>38757</td>\n",
       "      <td>[{\"id\": 1562, \"name\": \"hostage\"}, {\"id\": 2343,...</td>\n",
       "      <td>en</td>\n",
       "      <td>Tangled</td>\n",
       "      <td>When the kingdom's most wanted-and most charmi...</td>\n",
       "      <td>48.682</td>\n",
       "      <td>[{\"name\": \"Walt Disney Pictures\", \"id\": 2}, {\"...</td>\n",
       "      <td>[{\"iso_3166_1\": \"US\", \"name\": \"United States o...</td>\n",
       "      <td>2010-11-24</td>\n",
       "      <td>591794936</td>\n",
       "      <td>100.000</td>\n",
       "      <td>[{\"iso_639_1\": \"en\", \"name\": \"English\"}]</td>\n",
       "      <td>Released</td>\n",
       "      <td>They're taking adventure to new lengths.</td>\n",
       "      <td>Tangled</td>\n",
       "      <td>7.400</td>\n",
       "      <td>3330</td>\n",
       "    </tr>\n",
       "    <tr>\n",
       "      <th>7</th>\n",
       "      <td>280000000</td>\n",
       "      <td>[{\"id\": 28, \"name\": \"Action\"}, {\"id\": 12, \"nam...</td>\n",
       "      <td>http://marvel.com/movies/movie/193/avengers_ag...</td>\n",
       "      <td>99861</td>\n",
       "      <td>[{\"id\": 8828, \"name\": \"marvel comic\"}, {\"id\": ...</td>\n",
       "      <td>en</td>\n",
       "      <td>Avengers: Age of Ultron</td>\n",
       "      <td>When Tony Stark tries to jumpstart a dormant p...</td>\n",
       "      <td>134.279</td>\n",
       "      <td>[{\"name\": \"Marvel Studios\", \"id\": 420}, {\"name...</td>\n",
       "      <td>[{\"iso_3166_1\": \"US\", \"name\": \"United States o...</td>\n",
       "      <td>2015-04-22</td>\n",
       "      <td>1405403694</td>\n",
       "      <td>141.000</td>\n",
       "      <td>[{\"iso_639_1\": \"en\", \"name\": \"English\"}]</td>\n",
       "      <td>Released</td>\n",
       "      <td>A New Age Has Come.</td>\n",
       "      <td>Avengers: Age of Ultron</td>\n",
       "      <td>7.300</td>\n",
       "      <td>6767</td>\n",
       "    </tr>\n",
       "    <tr>\n",
       "      <th>8</th>\n",
       "      <td>250000000</td>\n",
       "      <td>[{\"id\": 12, \"name\": \"Adventure\"}, {\"id\": 14, \"...</td>\n",
       "      <td>http://harrypotter.warnerbros.com/harrypottera...</td>\n",
       "      <td>767</td>\n",
       "      <td>[{\"id\": 616, \"name\": \"witch\"}, {\"id\": 2343, \"n...</td>\n",
       "      <td>en</td>\n",
       "      <td>Harry Potter and the Half-Blood Prince</td>\n",
       "      <td>As Harry begins his sixth year at Hogwarts, he...</td>\n",
       "      <td>98.886</td>\n",
       "      <td>[{\"name\": \"Warner Bros.\", \"id\": 6194}, {\"name\"...</td>\n",
       "      <td>[{\"iso_3166_1\": \"GB\", \"name\": \"United Kingdom\"...</td>\n",
       "      <td>2009-07-07</td>\n",
       "      <td>933959197</td>\n",
       "      <td>153.000</td>\n",
       "      <td>[{\"iso_639_1\": \"en\", \"name\": \"English\"}]</td>\n",
       "      <td>Released</td>\n",
       "      <td>Dark Secrets Revealed</td>\n",
       "      <td>Harry Potter and the Half-Blood Prince</td>\n",
       "      <td>7.400</td>\n",
       "      <td>5293</td>\n",
       "    </tr>\n",
       "    <tr>\n",
       "      <th>9</th>\n",
       "      <td>250000000</td>\n",
       "      <td>[{\"id\": 28, \"name\": \"Action\"}, {\"id\": 12, \"nam...</td>\n",
       "      <td>http://www.batmanvsupermandawnofjustice.com/</td>\n",
       "      <td>209112</td>\n",
       "      <td>[{\"id\": 849, \"name\": \"dc comics\"}, {\"id\": 7002...</td>\n",
       "      <td>en</td>\n",
       "      <td>Batman v Superman: Dawn of Justice</td>\n",
       "      <td>Fearing the actions of a god-like Super Hero l...</td>\n",
       "      <td>155.790</td>\n",
       "      <td>[{\"name\": \"DC Comics\", \"id\": 429}, {\"name\": \"A...</td>\n",
       "      <td>[{\"iso_3166_1\": \"US\", \"name\": \"United States o...</td>\n",
       "      <td>2016-03-23</td>\n",
       "      <td>873260194</td>\n",
       "      <td>151.000</td>\n",
       "      <td>[{\"iso_639_1\": \"en\", \"name\": \"English\"}]</td>\n",
       "      <td>Released</td>\n",
       "      <td>Justice or revenge</td>\n",
       "      <td>Batman v Superman: Dawn of Justice</td>\n",
       "      <td>5.700</td>\n",
       "      <td>7004</td>\n",
       "    </tr>\n",
       "  </tbody>\n",
       "</table>\n",
       "</div>"
      ],
      "text/plain": [
       "      budget                                             genres  \\\n",
       "0  237000000  [{\"id\": 28, \"name\": \"Action\"}, {\"id\": 12, \"nam...   \n",
       "1  300000000  [{\"id\": 12, \"name\": \"Adventure\"}, {\"id\": 14, \"...   \n",
       "2  245000000  [{\"id\": 28, \"name\": \"Action\"}, {\"id\": 12, \"nam...   \n",
       "3  250000000  [{\"id\": 28, \"name\": \"Action\"}, {\"id\": 80, \"nam...   \n",
       "4  260000000  [{\"id\": 28, \"name\": \"Action\"}, {\"id\": 12, \"nam...   \n",
       "5  258000000  [{\"id\": 14, \"name\": \"Fantasy\"}, {\"id\": 28, \"na...   \n",
       "6  260000000  [{\"id\": 16, \"name\": \"Animation\"}, {\"id\": 10751...   \n",
       "7  280000000  [{\"id\": 28, \"name\": \"Action\"}, {\"id\": 12, \"nam...   \n",
       "8  250000000  [{\"id\": 12, \"name\": \"Adventure\"}, {\"id\": 14, \"...   \n",
       "9  250000000  [{\"id\": 28, \"name\": \"Action\"}, {\"id\": 12, \"nam...   \n",
       "\n",
       "                                            homepage      id  \\\n",
       "0                        http://www.avatarmovie.com/   19995   \n",
       "1       http://disney.go.com/disneypictures/pirates/     285   \n",
       "2        http://www.sonypictures.com/movies/spectre/  206647   \n",
       "3                 http://www.thedarkknightrises.com/   49026   \n",
       "4               http://movies.disney.com/john-carter   49529   \n",
       "5    http://www.sonypictures.com/movies/spider-man3/     559   \n",
       "6       http://disney.go.com/disneypictures/tangled/   38757   \n",
       "7  http://marvel.com/movies/movie/193/avengers_ag...   99861   \n",
       "8  http://harrypotter.warnerbros.com/harrypottera...     767   \n",
       "9       http://www.batmanvsupermandawnofjustice.com/  209112   \n",
       "\n",
       "                                            keywords original_language  \\\n",
       "0  [{\"id\": 1463, \"name\": \"culture clash\"}, {\"id\":...                en   \n",
       "1  [{\"id\": 270, \"name\": \"ocean\"}, {\"id\": 726, \"na...                en   \n",
       "2  [{\"id\": 470, \"name\": \"spy\"}, {\"id\": 818, \"name...                en   \n",
       "3  [{\"id\": 849, \"name\": \"dc comics\"}, {\"id\": 853,...                en   \n",
       "4  [{\"id\": 818, \"name\": \"based on novel\"}, {\"id\":...                en   \n",
       "5  [{\"id\": 851, \"name\": \"dual identity\"}, {\"id\": ...                en   \n",
       "6  [{\"id\": 1562, \"name\": \"hostage\"}, {\"id\": 2343,...                en   \n",
       "7  [{\"id\": 8828, \"name\": \"marvel comic\"}, {\"id\": ...                en   \n",
       "8  [{\"id\": 616, \"name\": \"witch\"}, {\"id\": 2343, \"n...                en   \n",
       "9  [{\"id\": 849, \"name\": \"dc comics\"}, {\"id\": 7002...                en   \n",
       "\n",
       "                             original_title  \\\n",
       "0                                    Avatar   \n",
       "1  Pirates of the Caribbean: At World's End   \n",
       "2                                   Spectre   \n",
       "3                     The Dark Knight Rises   \n",
       "4                               John Carter   \n",
       "5                              Spider-Man 3   \n",
       "6                                   Tangled   \n",
       "7                   Avengers: Age of Ultron   \n",
       "8    Harry Potter and the Half-Blood Prince   \n",
       "9        Batman v Superman: Dawn of Justice   \n",
       "\n",
       "                                            overview  popularity  \\\n",
       "0  In the 22nd century, a paraplegic Marine is di...     150.438   \n",
       "1  Captain Barbossa, long believed to be dead, ha...     139.083   \n",
       "2  A cryptic message from Bond’s past sends him o...     107.377   \n",
       "3  Following the death of District Attorney Harve...     112.313   \n",
       "4  John Carter is a war-weary, former military ca...      43.927   \n",
       "5  The seemingly invincible Spider-Man goes up ag...     115.700   \n",
       "6  When the kingdom's most wanted-and most charmi...      48.682   \n",
       "7  When Tony Stark tries to jumpstart a dormant p...     134.279   \n",
       "8  As Harry begins his sixth year at Hogwarts, he...      98.886   \n",
       "9  Fearing the actions of a god-like Super Hero l...     155.790   \n",
       "\n",
       "                                production_companies  \\\n",
       "0  [{\"name\": \"Ingenious Film Partners\", \"id\": 289...   \n",
       "1  [{\"name\": \"Walt Disney Pictures\", \"id\": 2}, {\"...   \n",
       "2  [{\"name\": \"Columbia Pictures\", \"id\": 5}, {\"nam...   \n",
       "3  [{\"name\": \"Legendary Pictures\", \"id\": 923}, {\"...   \n",
       "4        [{\"name\": \"Walt Disney Pictures\", \"id\": 2}]   \n",
       "5  [{\"name\": \"Columbia Pictures\", \"id\": 5}, {\"nam...   \n",
       "6  [{\"name\": \"Walt Disney Pictures\", \"id\": 2}, {\"...   \n",
       "7  [{\"name\": \"Marvel Studios\", \"id\": 420}, {\"name...   \n",
       "8  [{\"name\": \"Warner Bros.\", \"id\": 6194}, {\"name\"...   \n",
       "9  [{\"name\": \"DC Comics\", \"id\": 429}, {\"name\": \"A...   \n",
       "\n",
       "                                production_countries release_date     revenue  \\\n",
       "0  [{\"iso_3166_1\": \"US\", \"name\": \"United States o...   2009-12-10  2787965087   \n",
       "1  [{\"iso_3166_1\": \"US\", \"name\": \"United States o...   2007-05-19   961000000   \n",
       "2  [{\"iso_3166_1\": \"GB\", \"name\": \"United Kingdom\"...   2015-10-26   880674609   \n",
       "3  [{\"iso_3166_1\": \"US\", \"name\": \"United States o...   2012-07-16  1084939099   \n",
       "4  [{\"iso_3166_1\": \"US\", \"name\": \"United States o...   2012-03-07   284139100   \n",
       "5  [{\"iso_3166_1\": \"US\", \"name\": \"United States o...   2007-05-01   890871626   \n",
       "6  [{\"iso_3166_1\": \"US\", \"name\": \"United States o...   2010-11-24   591794936   \n",
       "7  [{\"iso_3166_1\": \"US\", \"name\": \"United States o...   2015-04-22  1405403694   \n",
       "8  [{\"iso_3166_1\": \"GB\", \"name\": \"United Kingdom\"...   2009-07-07   933959197   \n",
       "9  [{\"iso_3166_1\": \"US\", \"name\": \"United States o...   2016-03-23   873260194   \n",
       "\n",
       "   runtime                                   spoken_languages    status  \\\n",
       "0  162.000  [{\"iso_639_1\": \"en\", \"name\": \"English\"}, {\"iso...  Released   \n",
       "1  169.000           [{\"iso_639_1\": \"en\", \"name\": \"English\"}]  Released   \n",
       "2  148.000  [{\"iso_639_1\": \"fr\", \"name\": \"Fran\\u00e7ais\"},...  Released   \n",
       "3  165.000           [{\"iso_639_1\": \"en\", \"name\": \"English\"}]  Released   \n",
       "4  132.000           [{\"iso_639_1\": \"en\", \"name\": \"English\"}]  Released   \n",
       "5  139.000  [{\"iso_639_1\": \"en\", \"name\": \"English\"}, {\"iso...  Released   \n",
       "6  100.000           [{\"iso_639_1\": \"en\", \"name\": \"English\"}]  Released   \n",
       "7  141.000           [{\"iso_639_1\": \"en\", \"name\": \"English\"}]  Released   \n",
       "8  153.000           [{\"iso_639_1\": \"en\", \"name\": \"English\"}]  Released   \n",
       "9  151.000           [{\"iso_639_1\": \"en\", \"name\": \"English\"}]  Released   \n",
       "\n",
       "                                          tagline  \\\n",
       "0                     Enter the World of Pandora.   \n",
       "1  At the end of the world, the adventure begins.   \n",
       "2                           A Plan No One Escapes   \n",
       "3                                 The Legend Ends   \n",
       "4            Lost in our world, found in another.   \n",
       "5                              The battle within.   \n",
       "6        They're taking adventure to new lengths.   \n",
       "7                             A New Age Has Come.   \n",
       "8                           Dark Secrets Revealed   \n",
       "9                              Justice or revenge   \n",
       "\n",
       "                                      title  vote_average  vote_count  \n",
       "0                                    Avatar         7.200       11800  \n",
       "1  Pirates of the Caribbean: At World's End         6.900        4500  \n",
       "2                                   Spectre         6.300        4466  \n",
       "3                     The Dark Knight Rises         7.600        9106  \n",
       "4                               John Carter         6.100        2124  \n",
       "5                              Spider-Man 3         5.900        3576  \n",
       "6                                   Tangled         7.400        3330  \n",
       "7                   Avengers: Age of Ultron         7.300        6767  \n",
       "8    Harry Potter and the Half-Blood Prince         7.400        5293  \n",
       "9        Batman v Superman: Dawn of Justice         5.700        7004  "
      ]
     },
     "execution_count": 70,
     "metadata": {},
     "output_type": "execute_result"
    }
   ],
   "source": [
    "# Read dataset\n",
    "\n",
    "df = pd.read_csv(\"C:/Users/sidda/Desktop/sm_projects_neue/SEM5_MPR/tmdb_5000_movies.csv\")\n",
    "df.head(10)"
   ]
  },
  {
   "cell_type": "code",
   "execution_count": 71,
   "id": "52b74a9f-19bb-44fc-84d3-72d4b342336c",
   "metadata": {},
   "outputs": [],
   "source": [
    "def plot_boxplot(col):\n",
    "    # Visualize petal length distribution for all species\n",
    "    fig, ax = plt.subplots(figsize=(3, 7))\n",
    "    # Remove top and right border\n",
    "    ax.spines['top'].set_visible(False)\n",
    "    ax.spines['right'].set_visible(False)\n",
    "    ax.spines['left'].set_visible(False)\n",
    "    # Remove y-axis tick marks\n",
    "    ax.yaxis.set_ticks_position('none')\n",
    "    # Add major gridlines in the y-axis\n",
    "    ax.grid(color='grey', axis='y', linestyle='-', linewidth=0.25, alpha=0.5)\n",
    "    # Set plot title\n",
    "    ax.set_title(f'Distribution of {col}')\n",
    "    # Set species names as labels for the boxplot\n",
    "    # dataset = [df['vote_aver]]\n",
    "    # labels = df['vote_average'].unique()\n",
    "    ax.boxplot( df[col])\n",
    "    # plt.ticklabel_format(style='plain', axis='y')\n",
    "\n",
    "    plt.show()\n"
   ]
  },
  {
   "cell_type": "code",
   "execution_count": 72,
   "id": "7509d25e-6276-41f4-afd8-c447955b4f1e",
   "metadata": {},
   "outputs": [
    {
     "data": {
      "image/png": "[encoded data removed]",
      "text/plain": [
       "<Figure size 300x700 with 1 Axes>"
      ]
     },
     "metadata": {},
     "output_type": "display_data"
    }
   ],
   "source": [
    "plot_boxplot('vote_average')"
   ]
  },
  {
   "cell_type": "code",
   "execution_count": 73,
   "id": "f2f70335-5afe-4e6c-a79f-89327c8de7e2",
   "metadata": {},
   "outputs": [
    {
     "data": {
      "image/png": "[encoded data removed]",
      "text/plain": [
       "<Figure size 300x700 with 1 Axes>"
      ]
     },
     "metadata": {},
     "output_type": "display_data"
    }
   ],
   "source": [
    "plot_boxplot('revenue')"
   ]
  },
  {
   "cell_type": "code",
   "execution_count": 74,
   "id": "1254c80a-d23a-4203-8e0f-804f9730a76c",
   "metadata": {},
   "outputs": [
    {
     "data": {
      "image/png": "[encoded data removed]",
      "text/plain": [
       "<Figure size 300x700 with 1 Axes>"
      ]
     },
     "metadata": {},
     "output_type": "display_data"
    }
   ],
   "source": [
    "plot_boxplot('budget')"
   ]
  },
  {
   "cell_type": "code",
   "execution_count": 75,
   "id": "00ee001a-7cb5-4615-8bf9-c610a268d5f3",
   "metadata": {},
   "outputs": [
    {
     "data": {
      "image/png": "[encoded data removed]",
      "text/plain": [
       "<Figure size 300x700 with 1 Axes>"
      ]
     },
     "metadata": {},
     "output_type": "display_data"
    }
   ],
   "source": [
    "plot_boxplot('runtime')"
   ]
  },
  {
   "cell_type": "code",
   "execution_count": 76,
   "id": "3e751d6d-bf7d-4355-8034-40564c210075",
   "metadata": {},
   "outputs": [
    {
     "data": {
      "image/png": "[encoded data removed]",
      "text/plain": [
       "<Figure size 300x700 with 1 Axes>"
      ]
     },
     "metadata": {},
     "output_type": "display_data"
    }
   ],
   "source": [
    "plot_boxplot('vote_count')"
   ]
  },
  {
   "cell_type": "code",
   "execution_count": 77,
   "id": "1f57f8eb-9f1f-4ff8-bf2c-586afab7682d",
   "metadata": {},
   "outputs": [
    {
     "name": "stdout",
     "output_type": "stream",
     "text": [
      "(4803, 20)\n",
      "(4803, 11)\n"
     ]
    }
   ],
   "source": [
    "# Dropping columns that are not required\n",
    "dropcols = ['homepage', 'id', 'original_title', 'overview', 'production_countries', 'spoken_languages', 'status', 'tagline', 'title']\n",
    "print(df.shape)\n",
    "df = df.drop(dropcols, axis=1)\n",
    "print(df.shape)\n",
    "\n",
    "# columns that might be partially useful once we transform them: genres, keywords, production_companies\n",
    "# transformations required: release_date to d,m,y,day"
   ]
  },
  {
   "cell_type": "code",
   "execution_count": 78,
   "id": "4c12fa7d-ef9e-4b9f-82fe-9af1bc2c733a",
   "metadata": {},
   "outputs": [
    {
     "data": {
      "text/plain": [
       "budget                  0\n",
       "genres                  0\n",
       "keywords                0\n",
       "original_language       0\n",
       "popularity              0\n",
       "production_companies    0\n",
       "release_date            1\n",
       "revenue                 0\n",
       "runtime                 2\n",
       "vote_average            0\n",
       "vote_count              0\n",
       "dtype: int64"
      ]
     },
     "execution_count": 78,
     "metadata": {},
     "output_type": "execute_result"
    }
   ],
   "source": [
    "df.isnull().sum()"
   ]
  },
  {
   "cell_type": "code",
   "execution_count": 79,
   "id": "64764519-d0ec-494b-8b9b-528b18af80df",
   "metadata": {},
   "outputs": [
    {
     "data": {
      "text/plain": [
       "(4800, 11)"
      ]
     },
     "execution_count": 79,
     "metadata": {},
     "output_type": "execute_result"
    }
   ],
   "source": [
    "df = df.dropna()\n",
    "df.shape"
   ]
  },
  {
   "cell_type": "code",
   "execution_count": 80,
   "id": "fe9972db-3d0d-4696-90e3-01af9c7fa890",
   "metadata": {},
   "outputs": [
    {
     "data": {
      "text/plain": [
       "5"
      ]
     },
     "execution_count": 80,
     "metadata": {},
     "output_type": "execute_result"
    }
   ],
   "source": [
    "len(df[df['budget'] == 100000])"
   ]
  },
  {
   "cell_type": "code",
   "execution_count": 81,
   "id": "3ab09f62-4137-4aad-b0eb-e922e474df20",
   "metadata": {},
   "outputs": [
    {
     "data": {
      "text/plain": [
       "<Axes: xlabel='runtime', ylabel='Count'>"
      ]
     },
     "execution_count": 81,
     "metadata": {},
     "output_type": "execute_result"
    },
    {
     "data": {
      "image/png": "[encoded data removed]",
      "text/plain": [
       "<Figure size 640x480 with 1 Axes>"
      ]
     },
     "metadata": {},
     "output_type": "display_data"
    }
   ],
   "source": [
    "sns.histplot(df['runtime'])"
   ]
  },
  {
   "cell_type": "code",
   "execution_count": 82,
   "id": "031dfe73-2f2e-4c5a-ad6e-6cd3831c1206",
   "metadata": {},
   "outputs": [
    {
     "data": {
      "text/plain": [
       "(3167, 11)"
      ]
     },
     "execution_count": 82,
     "metadata": {},
     "output_type": "execute_result"
    }
   ],
   "source": [
    "df = df[df['revenue']>=10000]\n",
    "df = df[df['vote_count']>=10]\n",
    "df = df[df['runtime']>=60]\n",
    "df = df[df['budget']>=1000]\n",
    "\n",
    "df.shape\n",
    "\n"
   ]
  },
  {
   "cell_type": "code",
   "execution_count": null,
   "id": "32405323-b0a3-4012-95ae-4ad1a404f456",
   "metadata": {},
   "outputs": [],
   "source": []
  },
  {
   "cell_type": "code",
   "execution_count": 83,
   "id": "c825f35d-ecc7-4ca8-8c75-07929b75715b",
   "metadata": {},
   "outputs": [],
   "source": [
    "df['release_date'] = pd.to_datetime(df['release_date'])\n",
    "\n",
    "df = df.sort_values(by='release_date')\n",
    "df = df.set_index('release_date')\n",
    "# Calculate the rolling sum of budgets for the last 22 days\n",
    "df['rolling_budget_sum'] = df['budget'].rolling(window='22D', min_periods=1).sum()\n",
    "# print(df.head(25))\n",
    "# Calculate the movie impact by dividing the budget by the rolling sum\n",
    "df['relative_budget_impact'] = df['budget'] / df['rolling_budget_sum']\n",
    "\n",
    "# Drop the temporary rolling sum column if needed\n",
    "df.drop(columns=['rolling_budget_sum'], inplace=True)\n",
    "df = df.reset_index()"
   ]
  },
  {
   "cell_type": "code",
   "execution_count": null,
   "id": "c8a61688-4b12-40ba-847b-535d88e57d15",
   "metadata": {},
   "outputs": [],
   "source": []
  },
  {
   "cell_type": "code",
   "execution_count": 84,
   "id": "e789247b-0648-4185-abdb-398c02aa281b",
   "metadata": {},
   "outputs": [],
   "source": [
    "df['release_date'] = pd.to_datetime(df['release_date'])\n",
    "# df['date'] = df['release_date'].dt.day.astype(int)\n",
    "df['month'] = df['release_date'].dt.month.astype(int)\n",
    "df['year'] = df['release_date'].dt.year.astype(int)\n",
    "df['day'] = df['release_date'].dt.weekday.astype(int)\n",
    "\n",
    "df = df.drop(['release_date', 'vote_count'], axis=1)"
   ]
  },
  {
   "cell_type": "code",
   "execution_count": 85,
   "id": "e94cb1d4-607e-4473-b09a-20201f009c5d",
   "metadata": {},
   "outputs": [
    {
     "name": "stdout",
     "output_type": "stream",
     "text": [
      "decade\n",
      "1910     8394751.000\n",
      "1920     9002807.333\n",
      "1930    59891728.455\n",
      "1940    35136985.875\n",
      "1950    15489256.875\n",
      "1960    37959119.500\n",
      "1970    80360693.963\n",
      "1980    82888495.050\n",
      "1990   115399984.555\n",
      "2000   118283826.355\n",
      "2010   158740362.657\n",
      "Name: revenue, dtype: float64\n"
     ]
    }
   ],
   "source": [
    "pd.set_option('display.float_format', lambda x: '%.3f' % x)\n",
    "df['decade'] = (df['year'] // 10) * 10\n",
    "\n",
    "# Group by decade and calculate the average revenue\n",
    "average_revenue_by_decade = df.groupby('decade')['revenue'].mean()\n",
    "\n",
    "# Print the average revenue for each decade\n",
    "print(average_revenue_by_decade)"
   ]
  },
  {
   "cell_type": "code",
   "execution_count": 86,
   "id": "e2311f0c-352d-460c-a2b7-4ef41c267183",
   "metadata": {},
   "outputs": [],
   "source": [
    "df = df[df['year']>=1970]"
   ]
  },
  {
   "cell_type": "code",
   "execution_count": 87,
   "id": "5fe67c83-87fb-4fc7-9f51-19def64b73e2",
   "metadata": {},
   "outputs": [],
   "source": [
    "# import requests\n",
    "# import pandas as pd\n",
    "\n",
    "# # Define the API endpoint\n",
    "# api_url = \"https://api.bls.gov/publicAPI/v2/timeseries/data/\"\n",
    "\n",
    "# # Define the CPI series ID (Consumer Price Index for All Urban Consumers: All Items)\n",
    "# cpi_series_id = \"CUUR0000SA0\"\n",
    "\n",
    "# cpi_df_final = pd.DataFrame()\n",
    "# # Define the start and end years for which you want CPI data\n",
    "# start_year = 1910\n",
    "# end_year = 1920\n",
    "\n",
    "# while end_year < 2030:\n",
    "#     # Prepare the request parameters\n",
    "#     data = {\n",
    "#         \"seriesid\": [\"CUUR0000SA0\"],\n",
    "#         \"startyear\": str(start_year),\n",
    "#         \"endyear\": str(end_year),\n",
    "#         \"registrationkey\": \"c4303d9f0fc4416f8ce4b5a8edc06215\"  # Replace with your BLS API key\n",
    "#     }\n",
    "#     headers = {'Content-type': 'application/json'}\n",
    "    \n",
    "#     # Make the API request\n",
    "#     response = requests.post(api_url, json=data, headers=headers)\n",
    "#     data = response.json()\n",
    "#     # print(data)\n",
    "    \n",
    "#     # Extract CPI data from the response\n",
    "#     cpi_data = data['Results']['series'][0]['data']\n",
    "    \n",
    "#     # Create a DataFrame from the CPI data\n",
    "#     cpi_df = pd.DataFrame(cpi_data)\n",
    "#     cpi_df['cpi_year'] = pd.to_numeric(cpi_df['year'])\n",
    "#     cpi_df['value'] = pd.to_numeric(cpi_df['value'])\n",
    "#     cpi_df = cpi_df.sort_values(by='year')\n",
    "#     cpi_df = cpi_df[['cpi_year', 'value']]\n",
    "\n",
    "#     cpi_df_final = pd.concat([cpi_df_final, cpi_df], ignore_index=True)\n",
    "\n",
    "#     start_year += 10\n",
    "#     end_year += 10\n",
    "    \n",
    "\n",
    "# # Print the CPI DataFrame\n",
    "# cpi_df_final = cpi_df_final.groupby('cpi_year').mean().reset_index()\n",
    "# print(cpi_df_final)\n",
    "# cpi_df_final.to_csv('cpi_df_final.csv')\n",
    "\n",
    "cpi_df_final = pd.read_csv('C:/Users/sidda/Desktop/sm_projects_neue/SEM5_MPR/cpi_df_final.csv')\n"
   ]
  },
  {
   "cell_type": "code",
   "execution_count": 88,
   "id": "76e9552e-eba0-40ff-a0e0-9f0e7741b641",
   "metadata": {},
   "outputs": [
    {
     "data": {
      "text/plain": [
       "array([1913, 1914, 1915, 1916, 1917, 1918, 1919, 1920, 1921, 1922, 1923,\n",
       "       1924, 1925, 1926, 1927, 1928, 1929, 1930, 1931, 1932, 1933, 1934,\n",
       "       1935, 1936, 1937, 1938, 1939, 1940, 1941, 1942, 1943, 1944, 1945,\n",
       "       1946, 1947, 1948, 1949, 1950, 1951, 1952, 1953, 1954, 1955, 1956,\n",
       "       1957, 1958, 1959, 1960, 1961, 1962, 1963, 1964, 1965, 1966, 1967,\n",
       "       1968, 1969, 1970, 1971, 1972, 1973, 1974, 1975, 1976, 1977, 1978,\n",
       "       1979, 1980, 1981, 1982, 1983, 1984, 1985, 1986, 1987, 1988, 1989,\n",
       "       1990, 1991, 1992, 1993, 1994, 1995, 1996, 1997, 1998, 1999, 2000,\n",
       "       2001, 2002, 2003, 2004, 2005, 2006, 2007, 2008, 2009, 2010, 2011,\n",
       "       2012, 2013, 2014, 2015, 2016, 2017, 2018, 2019, 2020], dtype=int64)"
      ]
     },
     "execution_count": 88,
     "metadata": {},
     "output_type": "execute_result"
    }
   ],
   "source": [
    "cpi_df = cpi_df_final\n",
    "cpi_df['cpi_year'].values"
   ]
  },
  {
   "cell_type": "code",
   "execution_count": 89,
   "id": "c1e9fd08-ea58-4711-b134-813356c5f3c7",
   "metadata": {},
   "outputs": [
    {
     "data": {
      "text/plain": [
       "budget                    0\n",
       "genres                    0\n",
       "keywords                  0\n",
       "original_language         0\n",
       "popularity                0\n",
       "production_companies      0\n",
       "revenue                   0\n",
       "runtime                   0\n",
       "vote_average              0\n",
       "relative_budget_impact    0\n",
       "month                     0\n",
       "year                      0\n",
       "day                       0\n",
       "decade                    0\n",
       "dtype: int64"
      ]
     },
     "execution_count": 89,
     "metadata": {},
     "output_type": "execute_result"
    }
   ],
   "source": [
    "df.isnull().sum()"
   ]
  },
  {
   "cell_type": "code",
   "execution_count": 90,
   "id": "333d0d47-879c-4249-a499-dec9bc915739",
   "metadata": {},
   "outputs": [
    {
     "data": {
      "text/html": [
       "<div>\n",
       "<style scoped>\n",
       "    .dataframe tbody tr th:only-of-type {\n",
       "        vertical-align: middle;\n",
       "    }\n",
       "\n",
       "    .dataframe tbody tr th {\n",
       "        vertical-align: top;\n",
       "    }\n",
       "\n",
       "    .dataframe thead th {\n",
       "        text-align: right;\n",
       "    }\n",
       "</style>\n",
       "<table border=\"1\" class=\"dataframe\">\n",
       "  <thead>\n",
       "    <tr style=\"text-align: right;\">\n",
       "      <th></th>\n",
       "      <th>budget</th>\n",
       "      <th>popularity</th>\n",
       "      <th>revenue</th>\n",
       "      <th>runtime</th>\n",
       "      <th>vote_average</th>\n",
       "      <th>relative_budget_impact</th>\n",
       "      <th>month</th>\n",
       "      <th>year</th>\n",
       "      <th>day</th>\n",
       "      <th>decade</th>\n",
       "    </tr>\n",
       "  </thead>\n",
       "  <tbody>\n",
       "    <tr>\n",
       "      <th>count</th>\n",
       "      <td>3054.000</td>\n",
       "      <td>3054.000</td>\n",
       "      <td>3054.000</td>\n",
       "      <td>3054.000</td>\n",
       "      <td>3054.000</td>\n",
       "      <td>3054.000</td>\n",
       "      <td>3054.000</td>\n",
       "      <td>3054.000</td>\n",
       "      <td>3054.000</td>\n",
       "      <td>3054.000</td>\n",
       "    </tr>\n",
       "    <tr>\n",
       "      <th>mean</th>\n",
       "      <td>42673823.521</td>\n",
       "      <td>29.932</td>\n",
       "      <td>126873129.779</td>\n",
       "      <td>110.227</td>\n",
       "      <td>6.293</td>\n",
       "      <td>0.198</td>\n",
       "      <td>6.951</td>\n",
       "      <td>2003.556</td>\n",
       "      <td>3.147</td>\n",
       "      <td>1999.240</td>\n",
       "    </tr>\n",
       "    <tr>\n",
       "      <th>std</th>\n",
       "      <td>44765725.313</td>\n",
       "      <td>36.721</td>\n",
       "      <td>189669973.478</td>\n",
       "      <td>19.922</td>\n",
       "      <td>0.841</td>\n",
       "      <td>0.238</td>\n",
       "      <td>3.357</td>\n",
       "      <td>9.342</td>\n",
       "      <td>1.318</td>\n",
       "      <td>9.857</td>\n",
       "    </tr>\n",
       "    <tr>\n",
       "      <th>min</th>\n",
       "      <td>7000.000</td>\n",
       "      <td>0.034</td>\n",
       "      <td>10000.000</td>\n",
       "      <td>63.000</td>\n",
       "      <td>2.300</td>\n",
       "      <td>0.000</td>\n",
       "      <td>1.000</td>\n",
       "      <td>1970.000</td>\n",
       "      <td>0.000</td>\n",
       "      <td>1970.000</td>\n",
       "    </tr>\n",
       "    <tr>\n",
       "      <th>25%</th>\n",
       "      <td>12500000.000</td>\n",
       "      <td>11.247</td>\n",
       "      <td>19518097.750</td>\n",
       "      <td>96.000</td>\n",
       "      <td>5.800</td>\n",
       "      <td>0.048</td>\n",
       "      <td>4.000</td>\n",
       "      <td>1999.000</td>\n",
       "      <td>2.000</td>\n",
       "      <td>1990.000</td>\n",
       "    </tr>\n",
       "    <tr>\n",
       "      <th>50%</th>\n",
       "      <td>28000000.000</td>\n",
       "      <td>21.211</td>\n",
       "      <td>60403211.500</td>\n",
       "      <td>107.000</td>\n",
       "      <td>6.300</td>\n",
       "      <td>0.114</td>\n",
       "      <td>7.000</td>\n",
       "      <td>2005.000</td>\n",
       "      <td>3.000</td>\n",
       "      <td>2000.000</td>\n",
       "    </tr>\n",
       "    <tr>\n",
       "      <th>75%</th>\n",
       "      <td>58000000.000</td>\n",
       "      <td>38.051</td>\n",
       "      <td>152818905.500</td>\n",
       "      <td>120.000</td>\n",
       "      <td>6.900</td>\n",
       "      <td>0.245</td>\n",
       "      <td>10.000</td>\n",
       "      <td>2011.000</td>\n",
       "      <td>4.000</td>\n",
       "      <td>2010.000</td>\n",
       "    </tr>\n",
       "    <tr>\n",
       "      <th>max</th>\n",
       "      <td>380000000.000</td>\n",
       "      <td>875.581</td>\n",
       "      <td>2787965087.000</td>\n",
       "      <td>338.000</td>\n",
       "      <td>8.500</td>\n",
       "      <td>1.000</td>\n",
       "      <td>12.000</td>\n",
       "      <td>2016.000</td>\n",
       "      <td>6.000</td>\n",
       "      <td>2010.000</td>\n",
       "    </tr>\n",
       "  </tbody>\n",
       "</table>\n",
       "</div>"
      ],
      "text/plain": [
       "             budget  popularity        revenue  runtime  vote_average  \\\n",
       "count      3054.000    3054.000       3054.000 3054.000      3054.000   \n",
       "mean   42673823.521      29.932  126873129.779  110.227         6.293   \n",
       "std    44765725.313      36.721  189669973.478   19.922         0.841   \n",
       "min        7000.000       0.034      10000.000   63.000         2.300   \n",
       "25%    12500000.000      11.247   19518097.750   96.000         5.800   \n",
       "50%    28000000.000      21.211   60403211.500  107.000         6.300   \n",
       "75%    58000000.000      38.051  152818905.500  120.000         6.900   \n",
       "max   380000000.000     875.581 2787965087.000  338.000         8.500   \n",
       "\n",
       "       relative_budget_impact    month     year      day   decade  \n",
       "count                3054.000 3054.000 3054.000 3054.000 3054.000  \n",
       "mean                    0.198    6.951 2003.556    3.147 1999.240  \n",
       "std                     0.238    3.357    9.342    1.318    9.857  \n",
       "min                     0.000    1.000 1970.000    0.000 1970.000  \n",
       "25%                     0.048    4.000 1999.000    2.000 1990.000  \n",
       "50%                     0.114    7.000 2005.000    3.000 2000.000  \n",
       "75%                     0.245   10.000 2011.000    4.000 2010.000  \n",
       "max                     1.000   12.000 2016.000    6.000 2010.000  "
      ]
     },
     "execution_count": 90,
     "metadata": {},
     "output_type": "execute_result"
    }
   ],
   "source": [
    "df.describe()"
   ]
  },
  {
   "cell_type": "code",
   "execution_count": 91,
   "id": "1cef05cd-8afe-40db-852e-4645004ed404",
   "metadata": {},
   "outputs": [
    {
     "data": {
      "text/plain": [
       "258.8111666666667"
      ]
     },
     "execution_count": 91,
     "metadata": {},
     "output_type": "execute_result"
    }
   ],
   "source": [
    "cpi_df['value'].iloc[-1]"
   ]
  },
  {
   "cell_type": "code",
   "execution_count": 92,
   "id": "cdb8bee4-d572-4128-b1f6-046461befd43",
   "metadata": {},
   "outputs": [
    {
     "name": "stdout",
     "output_type": "stream",
     "text": [
      "      year    revenue  inflation_adjusted_revenue  ratio\n",
      "0     1970   89800000               598615396.437  6.666\n",
      "1     1970   29548291               196971736.425  6.666\n",
      "2     1970    2200000                14665410.603  6.666\n",
      "3     1970   34505110               230014366.389  6.666\n",
      "4     1970   18999718               126653939.006  6.666\n",
      "...    ...        ...                         ...    ...\n",
      "3049  2016   77000000                83032769.855  1.078\n",
      "3050  2016  745000000               803369007.037  1.078\n",
      "3051  2016  143695338               154953531.550  1.078\n",
      "3052  2016   94061311               101430794.656  1.078\n",
      "3053  2016   15861566                17104282.587  1.078\n",
      "\n",
      "[3054 rows x 4 columns]\n"
     ]
    },
    {
     "name": "stderr",
     "output_type": "stream",
     "text": [
      "C:\\Users\\sidda\\AppData\\Local\\Temp\\ipykernel_17776\\265460121.py:13: SettingWithCopyWarning: \n",
      "A value is trying to be set on a copy of a slice from a DataFrame.\n",
      "Try using .loc[row_indexer,col_indexer] = value instead\n",
      "\n",
      "See the caveats in the documentation: https://pandas.pydata.org/pandas-docs/stable/user_guide/indexing.html#returning-a-view-versus-a-copy\n",
      "  yy['ratio'] = merged_df['inflation_adjusted_revenue'] / merged_df['revenue']\n"
     ]
    }
   ],
   "source": [
    "merged_df = df.merge(cpi_df, left_on='year', right_on='cpi_year')\n",
    "merged_df.to_csv('merged_df0.csv')\n",
    "\n",
    "# Calculate CPI ratio and inflation-adjusted revenue\n",
    "# merged_df['cpi_ratio'] = cpi_df['value'] / merged_df['value']\n",
    "merged_df['cpi_ratio'] = cpi_df['value'].iloc[-1] / merged_df['value']\n",
    "\n",
    "merged_df['inflation_adjusted_revenue'] = merged_df['revenue'] * merged_df['cpi_ratio']\n",
    "merged_df['inflation_adjusted_budget'] = merged_df['budget'] * merged_df['cpi_ratio']\n",
    "\n",
    "merged_df = merged_df.drop(['decade', 'cpi_year', 'value', 'cpi_ratio',], axis=1)\n",
    "yy = merged_df[['year', 'revenue', 'inflation_adjusted_revenue']]\n",
    "yy['ratio'] = merged_df['inflation_adjusted_revenue'] / merged_df['revenue']\n",
    "print(yy)\n",
    "merged_df['revenue'] = merged_df['inflation_adjusted_revenue']\n",
    "merged_df['budget'] = merged_df['inflation_adjusted_budget']\n",
    "df = merged_df\n",
    "\n",
    "# Print the adjusted DataFrame\n",
    "# print(merged_df)"
   ]
  },
  {
   "cell_type": "code",
   "execution_count": 93,
   "id": "cce3903b-a51c-454f-95ae-cb7b2af20e72",
   "metadata": {},
   "outputs": [
    {
     "data": {
      "text/plain": [
       "0      598615396.437\n",
       "1      196971736.425\n",
       "2       14665410.603\n",
       "3      230014366.389\n",
       "4      126653939.006\n",
       "            ...     \n",
       "3049    83032769.855\n",
       "3050   803369007.037\n",
       "3051   154953531.550\n",
       "3052   101430794.656\n",
       "3053    17104282.587\n",
       "Name: inflation_adjusted_revenue, Length: 3054, dtype: float64"
      ]
     },
     "execution_count": 93,
     "metadata": {},
     "output_type": "execute_result"
    }
   ],
   "source": [
    "merged_df['inflation_adjusted_revenue']"
   ]
  },
  {
   "cell_type": "code",
   "execution_count": 94,
   "id": "7a0395ec-b480-45ce-aab4-ec8e71b0a3e1",
   "metadata": {},
   "outputs": [],
   "source": [
    "merged_df.to_csv('merged_df.csv')"
   ]
  },
  {
   "cell_type": "code",
   "execution_count": null,
   "id": "e147298e-ba75-4dd3-ad27-9e97505bfc97",
   "metadata": {},
   "outputs": [],
   "source": []
  },
  {
   "cell_type": "code",
   "execution_count": 95,
   "id": "ae284885-3ec4-4d92-91fb-44c9c4073c48",
   "metadata": {},
   "outputs": [],
   "source": [
    "# merged_df = df.merge(cpi_df, left_on='year', right_on='cpi_year', how='left')\n",
    "\n",
    "# # Calculate CPI ratio and inflation-adjusted revenue\n",
    "# merged_df['cpi_ratio'] = cpi_df['value'] / merged_df['value']\n",
    "# merged_df['inflation_adjusted_revenue'] = merged_df['revenue'] * merged_df['cpi_ratio']\n",
    "\n",
    "# # Print the adjusted DataFrame\n",
    "# print(merged_df['inflation_adjusted_revenue'].values[:10])\n",
    "\n",
    "# # merged_df = merged_df.drop(['decade', 'cpi_year', 'value', 'cpi_ratio'], axis=1)\n",
    "# df = merged_df"
   ]
  },
  {
   "cell_type": "code",
   "execution_count": 96,
   "id": "3fe9eb70-23db-47f0-a944-a2bd14fc05ce",
   "metadata": {},
   "outputs": [
    {
     "data": {
      "text/html": [
       "<div>\n",
       "<style scoped>\n",
       "    .dataframe tbody tr th:only-of-type {\n",
       "        vertical-align: middle;\n",
       "    }\n",
       "\n",
       "    .dataframe tbody tr th {\n",
       "        vertical-align: top;\n",
       "    }\n",
       "\n",
       "    .dataframe thead th {\n",
       "        text-align: right;\n",
       "    }\n",
       "</style>\n",
       "<table border=\"1\" class=\"dataframe\">\n",
       "  <thead>\n",
       "    <tr style=\"text-align: right;\">\n",
       "      <th></th>\n",
       "      <th>budget</th>\n",
       "      <th>genres</th>\n",
       "      <th>keywords</th>\n",
       "      <th>original_language</th>\n",
       "      <th>popularity</th>\n",
       "      <th>production_companies</th>\n",
       "      <th>revenue</th>\n",
       "      <th>runtime</th>\n",
       "      <th>vote_average</th>\n",
       "      <th>relative_budget_impact</th>\n",
       "      <th>month</th>\n",
       "      <th>year</th>\n",
       "      <th>day</th>\n",
       "      <th>Unnamed: 0</th>\n",
       "      <th>inflation_adjusted_revenue</th>\n",
       "      <th>inflation_adjusted_budget</th>\n",
       "    </tr>\n",
       "  </thead>\n",
       "  <tbody>\n",
       "    <tr>\n",
       "      <th>0</th>\n",
       "      <td>79993148.744</td>\n",
       "      <td>[{\"id\": 18, \"name\": \"Drama\"}, {\"id\": 36, \"name...</td>\n",
       "      <td>[{\"id\": 1402, \"name\": \"general\"}, {\"id\": 1956,...</td>\n",
       "      <td>en</td>\n",
       "      <td>21.934</td>\n",
       "      <td>[{\"name\": \"Twentieth Century Fox Film Corporat...</td>\n",
       "      <td>598615396.437</td>\n",
       "      <td>172.000</td>\n",
       "      <td>7.300</td>\n",
       "      <td>1.000</td>\n",
       "      <td>1</td>\n",
       "      <td>1970</td>\n",
       "      <td>6</td>\n",
       "      <td>57</td>\n",
       "      <td>598615396.437</td>\n",
       "      <td>79993148.744</td>\n",
       "    </tr>\n",
       "    <tr>\n",
       "      <th>1</th>\n",
       "      <td>169885449.646</td>\n",
       "      <td>[{\"id\": 36, \"name\": \"History\"}, {\"id\": 28, \"na...</td>\n",
       "      <td>[{\"id\": 233, \"name\": \"japan\"}, {\"id\": 1956, \"n...</td>\n",
       "      <td>en</td>\n",
       "      <td>9.796</td>\n",
       "      <td>[{\"name\": \"Twentieth Century Fox Film Corporat...</td>\n",
       "      <td>196971736.425</td>\n",
       "      <td>144.000</td>\n",
       "      <td>6.900</td>\n",
       "      <td>0.680</td>\n",
       "      <td>1</td>\n",
       "      <td>1970</td>\n",
       "      <td>0</td>\n",
       "      <td>57</td>\n",
       "      <td>196971736.425</td>\n",
       "      <td>169885449.646</td>\n",
       "    </tr>\n",
       "  </tbody>\n",
       "</table>\n",
       "</div>"
      ],
      "text/plain": [
       "         budget                                             genres  \\\n",
       "0  79993148.744  [{\"id\": 18, \"name\": \"Drama\"}, {\"id\": 36, \"name...   \n",
       "1 169885449.646  [{\"id\": 36, \"name\": \"History\"}, {\"id\": 28, \"na...   \n",
       "\n",
       "                                            keywords original_language  \\\n",
       "0  [{\"id\": 1402, \"name\": \"general\"}, {\"id\": 1956,...                en   \n",
       "1  [{\"id\": 233, \"name\": \"japan\"}, {\"id\": 1956, \"n...                en   \n",
       "\n",
       "   popularity                               production_companies  \\\n",
       "0      21.934  [{\"name\": \"Twentieth Century Fox Film Corporat...   \n",
       "1       9.796  [{\"name\": \"Twentieth Century Fox Film Corporat...   \n",
       "\n",
       "        revenue  runtime  vote_average  relative_budget_impact  month  year  \\\n",
       "0 598615396.437  172.000         7.300                   1.000      1  1970   \n",
       "1 196971736.425  144.000         6.900                   0.680      1  1970   \n",
       "\n",
       "   day  Unnamed: 0  inflation_adjusted_revenue  inflation_adjusted_budget  \n",
       "0    6          57               598615396.437               79993148.744  \n",
       "1    0          57               196971736.425              169885449.646  "
      ]
     },
     "execution_count": 96,
     "metadata": {},
     "output_type": "execute_result"
    }
   ],
   "source": [
    "df.head(2)"
   ]
  },
  {
   "cell_type": "code",
   "execution_count": 97,
   "id": "6cae7c71-d574-48eb-ad53-f1e6975cfaac",
   "metadata": {},
   "outputs": [
    {
     "data": {
      "text/plain": [
       "(3054, 16)"
      ]
     },
     "execution_count": 97,
     "metadata": {},
     "output_type": "execute_result"
    }
   ],
   "source": [
    "df.shape"
   ]
  },
  {
   "cell_type": "code",
   "execution_count": 98,
   "id": "7c50e200-cdea-44c4-bc6b-7a44f9ee3909",
   "metadata": {},
   "outputs": [
    {
     "data": {
      "text/plain": [
       "Index(['budget', 'genres', 'keywords', 'original_language', 'popularity',\n",
       "       'production_companies', 'revenue', 'runtime', 'vote_average',\n",
       "       'relative_budget_impact', 'month', 'year', 'day', 'Unnamed: 0',\n",
       "       'inflation_adjusted_revenue', 'inflation_adjusted_budget'],\n",
       "      dtype='object')"
      ]
     },
     "execution_count": 98,
     "metadata": {},
     "output_type": "execute_result"
    }
   ],
   "source": [
    "df.columns"
   ]
  },
  {
   "cell_type": "code",
   "execution_count": 99,
   "id": "89cc8f23-3ab5-4a10-b376-176c5f044c3a",
   "metadata": {},
   "outputs": [
    {
     "data": {
      "text/html": [
       "<div>\n",
       "<style scoped>\n",
       "    .dataframe tbody tr th:only-of-type {\n",
       "        vertical-align: middle;\n",
       "    }\n",
       "\n",
       "    .dataframe tbody tr th {\n",
       "        vertical-align: top;\n",
       "    }\n",
       "\n",
       "    .dataframe thead th {\n",
       "        text-align: right;\n",
       "    }\n",
       "</style>\n",
       "<table border=\"1\" class=\"dataframe\">\n",
       "  <thead>\n",
       "    <tr style=\"text-align: right;\">\n",
       "      <th></th>\n",
       "      <th>budget</th>\n",
       "      <th>popularity</th>\n",
       "      <th>revenue</th>\n",
       "      <th>runtime</th>\n",
       "      <th>vote_average</th>\n",
       "      <th>relative_budget_impact</th>\n",
       "      <th>month</th>\n",
       "      <th>year</th>\n",
       "      <th>day</th>\n",
       "      <th>Unnamed: 0</th>\n",
       "      <th>inflation_adjusted_revenue</th>\n",
       "      <th>inflation_adjusted_budget</th>\n",
       "    </tr>\n",
       "  </thead>\n",
       "  <tbody>\n",
       "    <tr>\n",
       "      <th>count</th>\n",
       "      <td>3054.000</td>\n",
       "      <td>3054.000</td>\n",
       "      <td>3054.000</td>\n",
       "      <td>3054.000</td>\n",
       "      <td>3054.000</td>\n",
       "      <td>3054.000</td>\n",
       "      <td>3054.000</td>\n",
       "      <td>3054.000</td>\n",
       "      <td>3054.000</td>\n",
       "      <td>3054.000</td>\n",
       "      <td>3054.000</td>\n",
       "      <td>3054.000</td>\n",
       "    </tr>\n",
       "    <tr>\n",
       "      <th>mean</th>\n",
       "      <td>57672946.592</td>\n",
       "      <td>29.932</td>\n",
       "      <td>179030899.240</td>\n",
       "      <td>110.227</td>\n",
       "      <td>6.293</td>\n",
       "      <td>0.198</td>\n",
       "      <td>6.951</td>\n",
       "      <td>2003.556</td>\n",
       "      <td>3.147</td>\n",
       "      <td>90.556</td>\n",
       "      <td>179030899.240</td>\n",
       "      <td>57672946.592</td>\n",
       "    </tr>\n",
       "    <tr>\n",
       "      <th>std</th>\n",
       "      <td>55779412.546</td>\n",
       "      <td>36.721</td>\n",
       "      <td>266642400.450</td>\n",
       "      <td>19.922</td>\n",
       "      <td>0.841</td>\n",
       "      <td>0.238</td>\n",
       "      <td>3.357</td>\n",
       "      <td>9.342</td>\n",
       "      <td>1.318</td>\n",
       "      <td>9.342</td>\n",
       "      <td>266642400.450</td>\n",
       "      <td>55779412.546</td>\n",
       "    </tr>\n",
       "    <tr>\n",
       "      <th>min</th>\n",
       "      <td>9204.663</td>\n",
       "      <td>0.034</td>\n",
       "      <td>12063.708</td>\n",
       "      <td>63.000</td>\n",
       "      <td>2.300</td>\n",
       "      <td>0.000</td>\n",
       "      <td>1.000</td>\n",
       "      <td>1970.000</td>\n",
       "      <td>0.000</td>\n",
       "      <td>57.000</td>\n",
       "      <td>12063.708</td>\n",
       "      <td>9204.663</td>\n",
       "    </tr>\n",
       "    <tr>\n",
       "      <th>25%</th>\n",
       "      <td>18031223.511</td>\n",
       "      <td>11.247</td>\n",
       "      <td>28509001.697</td>\n",
       "      <td>96.000</td>\n",
       "      <td>5.800</td>\n",
       "      <td>0.048</td>\n",
       "      <td>4.000</td>\n",
       "      <td>1999.000</td>\n",
       "      <td>2.000</td>\n",
       "      <td>86.000</td>\n",
       "      <td>28509001.697</td>\n",
       "      <td>18031223.511</td>\n",
       "    </tr>\n",
       "    <tr>\n",
       "      <th>50%</th>\n",
       "      <td>39692934.922</td>\n",
       "      <td>21.211</td>\n",
       "      <td>86618334.723</td>\n",
       "      <td>107.000</td>\n",
       "      <td>6.300</td>\n",
       "      <td>0.114</td>\n",
       "      <td>7.000</td>\n",
       "      <td>2005.000</td>\n",
       "      <td>3.000</td>\n",
       "      <td>92.000</td>\n",
       "      <td>86618334.723</td>\n",
       "      <td>39692934.922</td>\n",
       "    </tr>\n",
       "    <tr>\n",
       "      <th>75%</th>\n",
       "      <td>80618160.108</td>\n",
       "      <td>38.051</td>\n",
       "      <td>213427115.584</td>\n",
       "      <td>120.000</td>\n",
       "      <td>6.900</td>\n",
       "      <td>0.245</td>\n",
       "      <td>10.000</td>\n",
       "      <td>2011.000</td>\n",
       "      <td>4.000</td>\n",
       "      <td>98.000</td>\n",
       "      <td>213427115.584</td>\n",
       "      <td>80618160.108</td>\n",
       "    </tr>\n",
       "    <tr>\n",
       "      <th>max</th>\n",
       "      <td>437221515.447</td>\n",
       "      <td>875.581</td>\n",
       "      <td>3363319598.915</td>\n",
       "      <td>338.000</td>\n",
       "      <td>8.500</td>\n",
       "      <td>1.000</td>\n",
       "      <td>12.000</td>\n",
       "      <td>2016.000</td>\n",
       "      <td>6.000</td>\n",
       "      <td>103.000</td>\n",
       "      <td>3363319598.915</td>\n",
       "      <td>437221515.447</td>\n",
       "    </tr>\n",
       "  </tbody>\n",
       "</table>\n",
       "</div>"
      ],
      "text/plain": [
       "             budget  popularity        revenue  runtime  vote_average  \\\n",
       "count      3054.000    3054.000       3054.000 3054.000      3054.000   \n",
       "mean   57672946.592      29.932  179030899.240  110.227         6.293   \n",
       "std    55779412.546      36.721  266642400.450   19.922         0.841   \n",
       "min        9204.663       0.034      12063.708   63.000         2.300   \n",
       "25%    18031223.511      11.247   28509001.697   96.000         5.800   \n",
       "50%    39692934.922      21.211   86618334.723  107.000         6.300   \n",
       "75%    80618160.108      38.051  213427115.584  120.000         6.900   \n",
       "max   437221515.447     875.581 3363319598.915  338.000         8.500   \n",
       "\n",
       "       relative_budget_impact    month     year      day  Unnamed: 0  \\\n",
       "count                3054.000 3054.000 3054.000 3054.000    3054.000   \n",
       "mean                    0.198    6.951 2003.556    3.147      90.556   \n",
       "std                     0.238    3.357    9.342    1.318       9.342   \n",
       "min                     0.000    1.000 1970.000    0.000      57.000   \n",
       "25%                     0.048    4.000 1999.000    2.000      86.000   \n",
       "50%                     0.114    7.000 2005.000    3.000      92.000   \n",
       "75%                     0.245   10.000 2011.000    4.000      98.000   \n",
       "max                     1.000   12.000 2016.000    6.000     103.000   \n",
       "\n",
       "       inflation_adjusted_revenue  inflation_adjusted_budget  \n",
       "count                    3054.000                   3054.000  \n",
       "mean                179030899.240               57672946.592  \n",
       "std                 266642400.450               55779412.546  \n",
       "min                     12063.708                   9204.663  \n",
       "25%                  28509001.697               18031223.511  \n",
       "50%                  86618334.723               39692934.922  \n",
       "75%                 213427115.584               80618160.108  \n",
       "max                3363319598.915              437221515.447  "
      ]
     },
     "execution_count": 99,
     "metadata": {},
     "output_type": "execute_result"
    }
   ],
   "source": [
    "df.describe()"
   ]
  },
  {
   "cell_type": "code",
   "execution_count": 100,
   "id": "1bf7baf1-643f-479a-af4a-445ef5a6ca33",
   "metadata": {},
   "outputs": [],
   "source": [
    "df = df.drop(['inflation_adjusted_revenue', 'inflation_adjusted_budget'], axis=1)"
   ]
  },
  {
   "cell_type": "code",
   "execution_count": 101,
   "id": "d126874d-19a4-4e46-860f-52f00a3f813e",
   "metadata": {},
   "outputs": [
    {
     "data": {
      "text/plain": [
       "budget                    0\n",
       "genres                    0\n",
       "keywords                  0\n",
       "original_language         0\n",
       "popularity                0\n",
       "production_companies      0\n",
       "revenue                   0\n",
       "runtime                   0\n",
       "vote_average              0\n",
       "relative_budget_impact    0\n",
       "month                     0\n",
       "year                      0\n",
       "day                       0\n",
       "Unnamed: 0                0\n",
       "dtype: int64"
      ]
     },
     "execution_count": 101,
     "metadata": {},
     "output_type": "execute_result"
    }
   ],
   "source": [
    "df.isnull().sum()"
   ]
  },
  {
   "cell_type": "code",
   "execution_count": 102,
   "id": "f91c9e3e-2248-43ac-9377-2fd4c53f9977",
   "metadata": {},
   "outputs": [
    {
     "data": {
      "text/plain": [
       "<Axes: ylabel='Frequency'>"
      ]
     },
     "execution_count": 102,
     "metadata": {},
     "output_type": "execute_result"
    },
    {
     "data": {
      "image/png": "[encoded data removed]",
      "text/plain": [
       "<Figure size 640x480 with 1 Axes>"
      ]
     },
     "metadata": {},
     "output_type": "display_data"
    }
   ],
   "source": [
    "# df['vote_average'].plot(kind='kde')\n",
    "df['vote_average'].plot(kind='hist', edgecolor='black')"
   ]
  },
  {
   "cell_type": "code",
   "execution_count": 103,
   "id": "df237f9d-9f76-4958-b749-2475cdb9435a",
   "metadata": {},
   "outputs": [
    {
     "data": {
      "text/plain": [
       "<Axes: xlabel='vote_average', ylabel='Count'>"
      ]
     },
     "execution_count": 103,
     "metadata": {},
     "output_type": "execute_result"
    },
    {
     "data": {
      "image/png": "[encoded data removed]",
      "text/plain": [
       "<Figure size 640x480 with 1 Axes>"
      ]
     },
     "metadata": {},
     "output_type": "display_data"
    }
   ],
   "source": [
    "sns.histplot(df['vote_average'])"
   ]
  },
  {
   "cell_type": "code",
   "execution_count": 104,
   "id": "a7bc6f48-e2eb-4a1d-bd3f-6ad0f661c454",
   "metadata": {},
   "outputs": [
    {
     "name": "stdout",
     "output_type": "stream",
     "text": [
      "object\n"
     ]
    }
   ],
   "source": [
    "def tmdb_json_convert(x):\n",
    "    names = []\n",
    "    for data in json.loads(x):\n",
    "        names.append(data['name'])\n",
    "    return names"
   ]
  },
  {
   "cell_type": "code",
   "execution_count": 105,
   "id": "d88f3828-30ea-427b-b15f-9743d00a74fc",
   "metadata": {},
   "outputs": [
    {
     "name": "stdout",
     "output_type": "stream",
     "text": [
      "object\n"
     ]
    }
   ],
   "source": [
    "df['genres'] = df['genres'].apply(tmdb_json_convert)\n",
    "df['keywords'] = df['keywords'].apply(tmdb_json_convert)\n",
    "df['production_companies'] = df['production_companies'].apply(tmdb_json_convert)\n",
    "df.head(10)"
   ]
  },
  {
   "cell_type": "code",
   "execution_count": 106,
   "id": "17e7d96c-682c-4f84-bac2-b2ea81b7e72a",
   "metadata": {},
   "outputs": [
    {
     "name": "stdout",
     "output_type": "stream",
     "text": [
      "18\n",
      "8400\n",
      "3429\n",
      "25\n"
     ]
    }
   ],
   "source": [
    "genre_count = {}\n",
    "keywords_count = {}\n",
    "production_companies_count = {}\n",
    "language_count = {}\n",
    "\n",
    "def count_occurence(x, value_count):\n",
    "    for i in x:\n",
    "        value_count[i] = value_count.get(i, 0) + 1\n",
    "\n",
    "df['genres'].apply(lambda x: count_occurence(x, genre_count))\n",
    "df['keywords'].apply(lambda x: count_occurence(x, keywords_count))\n",
    "df['production_companies'].apply(lambda x: count_occurence(x, production_companies_count))\n",
    "df['original_language'].apply(lambda x: count_occurence([x], language_count))\n",
    "\n",
    "print(len(genre_count))\n",
    "print(len(keywords_count))\n",
    "print(len(production_companies_count))\n",
    "print(len(language_count))"
   ]
  },
  {
   "cell_type": "code",
   "execution_count": 107,
   "id": "2a462fad-7552-4ed5-8fa5-d46991fd702e",
   "metadata": {},
   "outputs": [
    {
     "data": {
      "image/png": "[encoded data removed]",
      "text/plain": [
       "<Figure size 1200x600 with 1 Axes>"
      ]
     },
     "metadata": {},
     "output_type": "display_data"
    }
   ],
   "source": [
    "genre_df = pd.DataFrame({\"Genre\":genre_count.keys(),\"Count\":genre_count.values()})\n",
    "genre_df = genre_df.sort_values(by=['Count'], ascending=False)\n",
    "plt.figure(figsize=(12,6))\n",
    "sns.barplot(y=genre_df[\"Genre\"],x=genre_df[\"Count\"],palette=\"mako\")\n",
    "plt.xlabel(\"Count\")\n",
    "plt.tight_layout()"
   ]
  },
  {
   "cell_type": "code",
   "execution_count": 108,
   "id": "3e89cf79-50b1-4c49-9003-3be94e8cc9c2",
   "metadata": {},
   "outputs": [
    {
     "data": {
      "image/png": "[encoded data removed]",
      "text/plain": [
       "<Figure size 1200x600 with 1 Axes>"
      ]
     },
     "metadata": {},
     "output_type": "display_data"
    }
   ],
   "source": [
    "keywords_df = pd.DataFrame({\"Keywords\":keywords_count.keys(),\"Count\":keywords_count.values()})\n",
    "keywords_df = keywords_df.sort_values(by=['Count'], ascending=False)\n",
    "\n",
    "limit = 50\n",
    "keywords_df = keywords_df[:limit]\n",
    "plt.figure(figsize=(12,6))\n",
    "sns.barplot(y = keywords_df[\"Keywords\"],x = keywords_df[\"Count\"],palette=\"pastel\")\n",
    "plt.title(\"Top \"+ str(limit) + \" Keywords\")\n",
    "plt.xlabel(\"Count\")\n",
    "plt.tight_layout()"
   ]
  },
  {
   "cell_type": "code",
   "execution_count": 109,
   "id": "06cf9cef-3a7b-445c-80e3-5b82cddb6ddd",
   "metadata": {},
   "outputs": [
    {
     "data": {
      "image/png": "[encoded data removed]",
      "text/plain": [
       "<Figure size 1200x600 with 1 Axes>"
      ]
     },
     "metadata": {},
     "output_type": "display_data"
    }
   ],
   "source": [
    "production_companies_count = pd.DataFrame({\"Production Company\":production_companies_count.keys(),\"Count\":production_companies_count.values()})\n",
    "production_companies_count = production_companies_count.sort_values(by=['Count'], ascending=False)\n",
    "\n",
    "limit = 50\n",
    "production_companies_count = production_companies_count[:limit]\n",
    "plt.figure(figsize=(12,6))\n",
    "sns.barplot(y = production_companies_count[\"Production Company\"],x = production_companies_count[\"Count\"],palette=\"pastel\")\n",
    "plt.title(\"Top \"+ str(limit) + \"Production Companies\")\n",
    "plt.xlabel(\"Count\")\n",
    "plt.tight_layout()"
   ]
  },
  {
   "cell_type": "code",
   "execution_count": 110,
   "id": "2220e28a",
   "metadata": {},
   "outputs": [
    {
     "data": {
      "text/html": [
       "<div>\n",
       "<style scoped>\n",
       "    .dataframe tbody tr th:only-of-type {\n",
       "        vertical-align: middle;\n",
       "    }\n",
       "\n",
       "    .dataframe tbody tr th {\n",
       "        vertical-align: top;\n",
       "    }\n",
       "\n",
       "    .dataframe thead th {\n",
       "        text-align: right;\n",
       "    }\n",
       "</style>\n",
       "<table border=\"1\" class=\"dataframe\">\n",
       "  <thead>\n",
       "    <tr style=\"text-align: right;\">\n",
       "      <th></th>\n",
       "      <th>budget</th>\n",
       "      <th>genres</th>\n",
       "      <th>keywords</th>\n",
       "      <th>original_language</th>\n",
       "      <th>popularity</th>\n",
       "      <th>production_companies</th>\n",
       "      <th>revenue</th>\n",
       "      <th>runtime</th>\n",
       "      <th>vote_average</th>\n",
       "      <th>relative_budget_impact</th>\n",
       "      <th>month</th>\n",
       "      <th>year</th>\n",
       "      <th>day</th>\n",
       "      <th>Unnamed: 0</th>\n",
       "    </tr>\n",
       "  </thead>\n",
       "  <tbody>\n",
       "    <tr>\n",
       "      <th>0</th>\n",
       "      <td>79993148.744</td>\n",
       "      <td>[Drama, History, War]</td>\n",
       "      <td>[general, world war ii, normandy, biography, h...</td>\n",
       "      <td>en</td>\n",
       "      <td>21.934</td>\n",
       "      <td>[Twentieth Century Fox Film Corporation]</td>\n",
       "      <td>598615396.437</td>\n",
       "      <td>172.000</td>\n",
       "      <td>7.300</td>\n",
       "      <td>1.000</td>\n",
       "      <td>1</td>\n",
       "      <td>1970</td>\n",
       "      <td>6</td>\n",
       "      <td>57</td>\n",
       "    </tr>\n",
       "    <tr>\n",
       "      <th>1</th>\n",
       "      <td>169885449.646</td>\n",
       "      <td>[History, Action, Drama, Adventure, War]</td>\n",
       "      <td>[japan, world war ii, pearl harbor, soldier, i...</td>\n",
       "      <td>en</td>\n",
       "      <td>9.796</td>\n",
       "      <td>[Twentieth Century Fox Film Corporation]</td>\n",
       "      <td>196971736.425</td>\n",
       "      <td>144.000</td>\n",
       "      <td>6.900</td>\n",
       "      <td>0.680</td>\n",
       "      <td>1</td>\n",
       "      <td>1970</td>\n",
       "      <td>0</td>\n",
       "      <td>57</td>\n",
       "    </tr>\n",
       "    <tr>\n",
       "      <th>2</th>\n",
       "      <td>73327053.016</td>\n",
       "      <td>[Drama, History]</td>\n",
       "      <td>[pennsylvania, miner, coal mining, coal mine, ...</td>\n",
       "      <td>en</td>\n",
       "      <td>1.397</td>\n",
       "      <td>[Paramount Pictures, Tamm Productions]</td>\n",
       "      <td>14665410.603</td>\n",
       "      <td>124.000</td>\n",
       "      <td>5.900</td>\n",
       "      <td>0.227</td>\n",
       "      <td>1</td>\n",
       "      <td>1970</td>\n",
       "      <td>1</td>\n",
       "      <td>57</td>\n",
       "    </tr>\n",
       "    <tr>\n",
       "      <th>3</th>\n",
       "      <td>3999657.437</td>\n",
       "      <td>[History, Documentary, Music]</td>\n",
       "      <td>[hippie, free love, musical, music, woodstock,...</td>\n",
       "      <td>en</td>\n",
       "      <td>3.410</td>\n",
       "      <td>[Wadleigh-Maurice, Warner Bros.]</td>\n",
       "      <td>230014366.389</td>\n",
       "      <td>225.000</td>\n",
       "      <td>7.100</td>\n",
       "      <td>1.000</td>\n",
       "      <td>3</td>\n",
       "      <td>1970</td>\n",
       "      <td>3</td>\n",
       "      <td>57</td>\n",
       "    </tr>\n",
       "    <tr>\n",
       "      <th>4</th>\n",
       "      <td>19998287.186</td>\n",
       "      <td>[Adventure, Science Fiction, Mystery]</td>\n",
       "      <td>[mutant, dystopia, survivor, astronaut, ape, s...</td>\n",
       "      <td>en</td>\n",
       "      <td>24.393</td>\n",
       "      <td>[Twentieth Century Fox Film Corporation, APJAC...</td>\n",
       "      <td>126653939.006</td>\n",
       "      <td>95.000</td>\n",
       "      <td>6.200</td>\n",
       "      <td>1.000</td>\n",
       "      <td>5</td>\n",
       "      <td>1970</td>\n",
       "      <td>4</td>\n",
       "      <td>57</td>\n",
       "    </tr>\n",
       "  </tbody>\n",
       "</table>\n",
       "</div>"
      ],
      "text/plain": [
       "         budget                                    genres  \\\n",
       "0  79993148.744                     [Drama, History, War]   \n",
       "1 169885449.646  [History, Action, Drama, Adventure, War]   \n",
       "2  73327053.016                          [Drama, History]   \n",
       "3   3999657.437             [History, Documentary, Music]   \n",
       "4  19998287.186     [Adventure, Science Fiction, Mystery]   \n",
       "\n",
       "                                            keywords original_language  \\\n",
       "0  [general, world war ii, normandy, biography, h...                en   \n",
       "1  [japan, world war ii, pearl harbor, soldier, i...                en   \n",
       "2  [pennsylvania, miner, coal mining, coal mine, ...                en   \n",
       "3  [hippie, free love, musical, music, woodstock,...                en   \n",
       "4  [mutant, dystopia, survivor, astronaut, ape, s...                en   \n",
       "\n",
       "   popularity                               production_companies  \\\n",
       "0      21.934           [Twentieth Century Fox Film Corporation]   \n",
       "1       9.796           [Twentieth Century Fox Film Corporation]   \n",
       "2       1.397             [Paramount Pictures, Tamm Productions]   \n",
       "3       3.410                   [Wadleigh-Maurice, Warner Bros.]   \n",
       "4      24.393  [Twentieth Century Fox Film Corporation, APJAC...   \n",
       "\n",
       "        revenue  runtime  vote_average  relative_budget_impact  month  year  \\\n",
       "0 598615396.437  172.000         7.300                   1.000      1  1970   \n",
       "1 196971736.425  144.000         6.900                   0.680      1  1970   \n",
       "2  14665410.603  124.000         5.900                   0.227      1  1970   \n",
       "3 230014366.389  225.000         7.100                   1.000      3  1970   \n",
       "4 126653939.006   95.000         6.200                   1.000      5  1970   \n",
       "\n",
       "   day  Unnamed: 0  \n",
       "0    6          57  \n",
       "1    0          57  \n",
       "2    1          57  \n",
       "3    3          57  \n",
       "4    4          57  "
      ]
     },
     "execution_count": 110,
     "metadata": {},
     "output_type": "execute_result"
    }
   ],
   "source": [
    "df.head(5)"
   ]
  },
  {
   "cell_type": "code",
   "execution_count": 111,
   "id": "4f03dd51-a71b-444c-a5a8-25b233622ff4",
   "metadata": {},
   "outputs": [],
   "source": [
    "for genre in genre_df['Genre'][:15]:\n",
    "    df[f'is {genre}'] = df['genres'].apply(lambda x: 1 if genre in x else 0)\n",
    "\n",
    "df = df.drop('genres', axis=1)"
   ]
  },
  {
   "cell_type": "code",
   "execution_count": 112,
   "id": "8cc19c7b-30e2-45c1-993e-f292d5ad9700",
   "metadata": {},
   "outputs": [],
   "source": [
    "# df['revenue']"
   ]
  },
  {
   "cell_type": "code",
   "execution_count": 113,
   "id": "076c984b-9753-42c5-8d89-b9e56306587c",
   "metadata": {},
   "outputs": [],
   "source": [
    "for production_company in production_companies_count[\"Production Company\"][:30]:\n",
    "    df[f'is {production_company}'] = df['production_companies'].apply(lambda x: 1 if production_company in x else 0)\n",
    "\n",
    "# for keyword in keywords_df[\"Keywords\"][:20]:\n",
    "#     df[f'is {keyword}'] = df['keywords'].apply(lambda x: 1 if keyword in x else 0)"
   ]
  },
  {
   "cell_type": "code",
   "execution_count": 114,
   "id": "4d24aefa-68d2-45cf-9808-99db9aba666e",
   "metadata": {},
   "outputs": [
    {
     "data": {
      "text/plain": [
       "Index(['budget', 'original_language', 'popularity', 'revenue', 'runtime',\n",
       "       'vote_average', 'relative_budget_impact', 'month', 'year', 'day',\n",
       "       'Unnamed: 0', 'is Drama', 'is Comedy', 'is Thriller', 'is Action',\n",
       "       'is Adventure', 'is Romance', 'is Crime', 'is Science Fiction',\n",
       "       'is Family', 'is Fantasy', 'is Horror', 'is Mystery', 'is Animation',\n",
       "       'is History', 'is War', 'is Warner Bros.', 'is Universal Pictures',\n",
       "       'is Paramount Pictures', 'is Twentieth Century Fox Film Corporation',\n",
       "       'is Columbia Pictures', 'is New Line Cinema', 'is Relativity Media',\n",
       "       'is Walt Disney Pictures', 'is Touchstone Pictures',\n",
       "       'is Columbia Pictures Corporation', 'is Metro-Goldwyn-Mayer (MGM)',\n",
       "       'is Village Roadshow Pictures', 'is DreamWorks SKG', 'is Miramax Films',\n",
       "       'is Regency Enterprises', 'is Dune Entertainment',\n",
       "       'is TriStar Pictures', 'is Lionsgate', 'is Summit Entertainment',\n",
       "       'is Canal+', 'is Fox Searchlight Pictures', 'is Amblin Entertainment',\n",
       "       'is United Artists', 'is Fox 2000 Pictures', 'is Working Title Films',\n",
       "       'is Dimension Films', 'is The Weinstein Company',\n",
       "       'is New Regency Pictures', 'is Legendary Pictures',\n",
       "       'is Spyglass Entertainment'],\n",
       "      dtype='object')"
      ]
     },
     "execution_count": 114,
     "metadata": {},
     "output_type": "execute_result"
    }
   ],
   "source": [
    "df = df.drop(['keywords', 'production_companies'], axis=1)\n",
    "df.columns"
   ]
  },
  {
   "cell_type": "code",
   "execution_count": 115,
   "id": "aef5af03-6d70-495f-80e5-6533918e0269",
   "metadata": {},
   "outputs": [
    {
     "data": {
      "text/plain": [
       "array(['en', 'de', 'xx', 'fr', 'ja', 'es', 'cn', 'fa', 'pt', 'zh', 'ko',\n",
       "       'ru', 'hi', 'da', 'th', 'af', 'nl', 'ro', 'he', 'no', 'it', 'nb',\n",
       "       'id', 'pl', 'te'], dtype=object)"
      ]
     },
     "execution_count": 115,
     "metadata": {},
     "output_type": "execute_result"
    }
   ],
   "source": [
    "df['original_language'].unique()"
   ]
  },
  {
   "cell_type": "code",
   "execution_count": 116,
   "id": "331e8a24-f78e-4d0e-86b9-9c4443844c42",
   "metadata": {},
   "outputs": [
    {
     "data": {
      "text/plain": [
       "{'en': 2937,\n",
       " 'de': 8,\n",
       " 'xx': 1,\n",
       " 'fr': 25,\n",
       " 'ja': 12,\n",
       " 'es': 15,\n",
       " 'cn': 5,\n",
       " 'fa': 1,\n",
       " 'pt': 2,\n",
       " 'zh': 12,\n",
       " 'ko': 5,\n",
       " 'ru': 6,\n",
       " 'hi': 6,\n",
       " 'da': 4,\n",
       " 'th': 2,\n",
       " 'af': 1,\n",
       " 'nl': 2,\n",
       " 'ro': 1,\n",
       " 'he': 1,\n",
       " 'no': 1,\n",
       " 'it': 2,\n",
       " 'nb': 1,\n",
       " 'id': 2,\n",
       " 'pl': 1,\n",
       " 'te': 1}"
      ]
     },
     "execution_count": 116,
     "metadata": {},
     "output_type": "execute_result"
    }
   ],
   "source": [
    "language_count"
   ]
  },
  {
   "cell_type": "code",
   "execution_count": 117,
   "id": "5342ed9e-568b-481c-b137-939d78d54efe",
   "metadata": {},
   "outputs": [],
   "source": [
    "# df['is_english'] = df['original_language'].apply(lambda x: 1 if x=='en' else 0)\n",
    "# df = df.drop('original_language', axis=1)\n",
    "\n",
    "label_encoder = preprocessing.LabelEncoder()\n",
    "df['original_language']= label_encoder.fit_transform(df['original_language'])"
   ]
  },
  {
   "cell_type": "code",
   "execution_count": 118,
   "id": "cb3a980e",
   "metadata": {},
   "outputs": [
    {
     "data": {
      "text/html": [
       "<div>\n",
       "<style scoped>\n",
       "    .dataframe tbody tr th:only-of-type {\n",
       "        vertical-align: middle;\n",
       "    }\n",
       "\n",
       "    .dataframe tbody tr th {\n",
       "        vertical-align: top;\n",
       "    }\n",
       "\n",
       "    .dataframe thead th {\n",
       "        text-align: right;\n",
       "    }\n",
       "</style>\n",
       "<table border=\"1\" class=\"dataframe\">\n",
       "  <thead>\n",
       "    <tr style=\"text-align: right;\">\n",
       "      <th></th>\n",
       "      <th>budget</th>\n",
       "      <th>original_language</th>\n",
       "      <th>popularity</th>\n",
       "      <th>revenue</th>\n",
       "      <th>runtime</th>\n",
       "      <th>vote_average</th>\n",
       "      <th>relative_budget_impact</th>\n",
       "      <th>month</th>\n",
       "      <th>year</th>\n",
       "      <th>day</th>\n",
       "      <th>...</th>\n",
       "      <th>is Fox Searchlight Pictures</th>\n",
       "      <th>is Amblin Entertainment</th>\n",
       "      <th>is United Artists</th>\n",
       "      <th>is Fox 2000 Pictures</th>\n",
       "      <th>is Working Title Films</th>\n",
       "      <th>is Dimension Films</th>\n",
       "      <th>is The Weinstein Company</th>\n",
       "      <th>is New Regency Pictures</th>\n",
       "      <th>is Legendary Pictures</th>\n",
       "      <th>is Spyglass Entertainment</th>\n",
       "    </tr>\n",
       "  </thead>\n",
       "  <tbody>\n",
       "    <tr>\n",
       "      <th>0</th>\n",
       "      <td>79993148.744</td>\n",
       "      <td>4</td>\n",
       "      <td>21.934</td>\n",
       "      <td>598615396.437</td>\n",
       "      <td>172.000</td>\n",
       "      <td>7.300</td>\n",
       "      <td>1.000</td>\n",
       "      <td>1</td>\n",
       "      <td>1970</td>\n",
       "      <td>6</td>\n",
       "      <td>...</td>\n",
       "      <td>0</td>\n",
       "      <td>0</td>\n",
       "      <td>0</td>\n",
       "      <td>0</td>\n",
       "      <td>0</td>\n",
       "      <td>0</td>\n",
       "      <td>0</td>\n",
       "      <td>0</td>\n",
       "      <td>0</td>\n",
       "      <td>0</td>\n",
       "    </tr>\n",
       "    <tr>\n",
       "      <th>1</th>\n",
       "      <td>169885449.646</td>\n",
       "      <td>4</td>\n",
       "      <td>9.796</td>\n",
       "      <td>196971736.425</td>\n",
       "      <td>144.000</td>\n",
       "      <td>6.900</td>\n",
       "      <td>0.680</td>\n",
       "      <td>1</td>\n",
       "      <td>1970</td>\n",
       "      <td>0</td>\n",
       "      <td>...</td>\n",
       "      <td>0</td>\n",
       "      <td>0</td>\n",
       "      <td>0</td>\n",
       "      <td>0</td>\n",
       "      <td>0</td>\n",
       "      <td>0</td>\n",
       "      <td>0</td>\n",
       "      <td>0</td>\n",
       "      <td>0</td>\n",
       "      <td>0</td>\n",
       "    </tr>\n",
       "    <tr>\n",
       "      <th>2</th>\n",
       "      <td>73327053.016</td>\n",
       "      <td>4</td>\n",
       "      <td>1.397</td>\n",
       "      <td>14665410.603</td>\n",
       "      <td>124.000</td>\n",
       "      <td>5.900</td>\n",
       "      <td>0.227</td>\n",
       "      <td>1</td>\n",
       "      <td>1970</td>\n",
       "      <td>1</td>\n",
       "      <td>...</td>\n",
       "      <td>0</td>\n",
       "      <td>0</td>\n",
       "      <td>0</td>\n",
       "      <td>0</td>\n",
       "      <td>0</td>\n",
       "      <td>0</td>\n",
       "      <td>0</td>\n",
       "      <td>0</td>\n",
       "      <td>0</td>\n",
       "      <td>0</td>\n",
       "    </tr>\n",
       "    <tr>\n",
       "      <th>3</th>\n",
       "      <td>3999657.437</td>\n",
       "      <td>4</td>\n",
       "      <td>3.410</td>\n",
       "      <td>230014366.389</td>\n",
       "      <td>225.000</td>\n",
       "      <td>7.100</td>\n",
       "      <td>1.000</td>\n",
       "      <td>3</td>\n",
       "      <td>1970</td>\n",
       "      <td>3</td>\n",
       "      <td>...</td>\n",
       "      <td>0</td>\n",
       "      <td>0</td>\n",
       "      <td>0</td>\n",
       "      <td>0</td>\n",
       "      <td>0</td>\n",
       "      <td>0</td>\n",
       "      <td>0</td>\n",
       "      <td>0</td>\n",
       "      <td>0</td>\n",
       "      <td>0</td>\n",
       "    </tr>\n",
       "    <tr>\n",
       "      <th>4</th>\n",
       "      <td>19998287.186</td>\n",
       "      <td>4</td>\n",
       "      <td>24.393</td>\n",
       "      <td>126653939.006</td>\n",
       "      <td>95.000</td>\n",
       "      <td>6.200</td>\n",
       "      <td>1.000</td>\n",
       "      <td>5</td>\n",
       "      <td>1970</td>\n",
       "      <td>4</td>\n",
       "      <td>...</td>\n",
       "      <td>0</td>\n",
       "      <td>0</td>\n",
       "      <td>0</td>\n",
       "      <td>0</td>\n",
       "      <td>0</td>\n",
       "      <td>0</td>\n",
       "      <td>0</td>\n",
       "      <td>0</td>\n",
       "      <td>0</td>\n",
       "      <td>0</td>\n",
       "    </tr>\n",
       "    <tr>\n",
       "      <th>...</th>\n",
       "      <td>...</td>\n",
       "      <td>...</td>\n",
       "      <td>...</td>\n",
       "      <td>...</td>\n",
       "      <td>...</td>\n",
       "      <td>...</td>\n",
       "      <td>...</td>\n",
       "      <td>...</td>\n",
       "      <td>...</td>\n",
       "      <td>...</td>\n",
       "      <td>...</td>\n",
       "      <td>...</td>\n",
       "      <td>...</td>\n",
       "      <td>...</td>\n",
       "      <td>...</td>\n",
       "      <td>...</td>\n",
       "      <td>...</td>\n",
       "      <td>...</td>\n",
       "      <td>...</td>\n",
       "      <td>...</td>\n",
       "      <td>...</td>\n",
       "    </tr>\n",
       "    <tr>\n",
       "      <th>3049</th>\n",
       "      <td>16175214.907</td>\n",
       "      <td>12</td>\n",
       "      <td>9.477</td>\n",
       "      <td>83032769.855</td>\n",
       "      <td>120.000</td>\n",
       "      <td>6.500</td>\n",
       "      <td>0.041</td>\n",
       "      <td>7</td>\n",
       "      <td>2016</td>\n",
       "      <td>4</td>\n",
       "      <td>...</td>\n",
       "      <td>0</td>\n",
       "      <td>0</td>\n",
       "      <td>0</td>\n",
       "      <td>0</td>\n",
       "      <td>0</td>\n",
       "      <td>0</td>\n",
       "      <td>0</td>\n",
       "      <td>0</td>\n",
       "      <td>0</td>\n",
       "      <td>0</td>\n",
       "    </tr>\n",
       "    <tr>\n",
       "      <th>3050</th>\n",
       "      <td>188710840.579</td>\n",
       "      <td>4</td>\n",
       "      <td>90.238</td>\n",
       "      <td>803369007.037</td>\n",
       "      <td>123.000</td>\n",
       "      <td>5.900</td>\n",
       "      <td>0.334</td>\n",
       "      <td>8</td>\n",
       "      <td>2016</td>\n",
       "      <td>1</td>\n",
       "      <td>...</td>\n",
       "      <td>0</td>\n",
       "      <td>0</td>\n",
       "      <td>0</td>\n",
       "      <td>0</td>\n",
       "      <td>0</td>\n",
       "      <td>0</td>\n",
       "      <td>0</td>\n",
       "      <td>0</td>\n",
       "      <td>0</td>\n",
       "      <td>0</td>\n",
       "    </tr>\n",
       "    <tr>\n",
       "      <th>3051</th>\n",
       "      <td>70092597.929</td>\n",
       "      <td>4</td>\n",
       "      <td>31.974</td>\n",
       "      <td>154953531.550</td>\n",
       "      <td>102.000</td>\n",
       "      <td>6.200</td>\n",
       "      <td>0.155</td>\n",
       "      <td>8</td>\n",
       "      <td>2016</td>\n",
       "      <td>2</td>\n",
       "      <td>...</td>\n",
       "      <td>0</td>\n",
       "      <td>0</td>\n",
       "      <td>0</td>\n",
       "      <td>0</td>\n",
       "      <td>0</td>\n",
       "      <td>0</td>\n",
       "      <td>0</td>\n",
       "      <td>0</td>\n",
       "      <td>0</td>\n",
       "      <td>0</td>\n",
       "    </tr>\n",
       "    <tr>\n",
       "      <th>3052</th>\n",
       "      <td>107834766.045</td>\n",
       "      <td>4</td>\n",
       "      <td>29.608</td>\n",
       "      <td>101430794.656</td>\n",
       "      <td>125.000</td>\n",
       "      <td>5.300</td>\n",
       "      <td>0.194</td>\n",
       "      <td>8</td>\n",
       "      <td>2016</td>\n",
       "      <td>2</td>\n",
       "      <td>...</td>\n",
       "      <td>0</td>\n",
       "      <td>0</td>\n",
       "      <td>0</td>\n",
       "      <td>0</td>\n",
       "      <td>0</td>\n",
       "      <td>0</td>\n",
       "      <td>0</td>\n",
       "      <td>0</td>\n",
       "      <td>0</td>\n",
       "      <td>0</td>\n",
       "    </tr>\n",
       "    <tr>\n",
       "      <th>3053</th>\n",
       "      <td>9165955.114</td>\n",
       "      <td>4</td>\n",
       "      <td>9.453</td>\n",
       "      <td>17104282.587</td>\n",
       "      <td>120.000</td>\n",
       "      <td>6.500</td>\n",
       "      <td>1.000</td>\n",
       "      <td>9</td>\n",
       "      <td>2016</td>\n",
       "      <td>4</td>\n",
       "      <td>...</td>\n",
       "      <td>0</td>\n",
       "      <td>0</td>\n",
       "      <td>0</td>\n",
       "      <td>0</td>\n",
       "      <td>0</td>\n",
       "      <td>0</td>\n",
       "      <td>0</td>\n",
       "      <td>0</td>\n",
       "      <td>0</td>\n",
       "      <td>0</td>\n",
       "    </tr>\n",
       "  </tbody>\n",
       "</table>\n",
       "<p>3054 rows × 56 columns</p>\n",
       "</div>"
      ],
      "text/plain": [
       "            budget  original_language  popularity       revenue  runtime  \\\n",
       "0     79993148.744                  4      21.934 598615396.437  172.000   \n",
       "1    169885449.646                  4       9.796 196971736.425  144.000   \n",
       "2     73327053.016                  4       1.397  14665410.603  124.000   \n",
       "3      3999657.437                  4       3.410 230014366.389  225.000   \n",
       "4     19998287.186                  4      24.393 126653939.006   95.000   \n",
       "...            ...                ...         ...           ...      ...   \n",
       "3049  16175214.907                 12       9.477  83032769.855  120.000   \n",
       "3050 188710840.579                  4      90.238 803369007.037  123.000   \n",
       "3051  70092597.929                  4      31.974 154953531.550  102.000   \n",
       "3052 107834766.045                  4      29.608 101430794.656  125.000   \n",
       "3053   9165955.114                  4       9.453  17104282.587  120.000   \n",
       "\n",
       "      vote_average  relative_budget_impact  month  year  day  ...  \\\n",
       "0            7.300                   1.000      1  1970    6  ...   \n",
       "1            6.900                   0.680      1  1970    0  ...   \n",
       "2            5.900                   0.227      1  1970    1  ...   \n",
       "3            7.100                   1.000      3  1970    3  ...   \n",
       "4            6.200                   1.000      5  1970    4  ...   \n",
       "...            ...                     ...    ...   ...  ...  ...   \n",
       "3049         6.500                   0.041      7  2016    4  ...   \n",
       "3050         5.900                   0.334      8  2016    1  ...   \n",
       "3051         6.200                   0.155      8  2016    2  ...   \n",
       "3052         5.300                   0.194      8  2016    2  ...   \n",
       "3053         6.500                   1.000      9  2016    4  ...   \n",
       "\n",
       "      is Fox Searchlight Pictures  is Amblin Entertainment  is United Artists  \\\n",
       "0                               0                        0                  0   \n",
       "1                               0                        0                  0   \n",
       "2                               0                        0                  0   \n",
       "3                               0                        0                  0   \n",
       "4                               0                        0                  0   \n",
       "...                           ...                      ...                ...   \n",
       "3049                            0                        0                  0   \n",
       "3050                            0                        0                  0   \n",
       "3051                            0                        0                  0   \n",
       "3052                            0                        0                  0   \n",
       "3053                            0                        0                  0   \n",
       "\n",
       "      is Fox 2000 Pictures  is Working Title Films  is Dimension Films  \\\n",
       "0                        0                       0                   0   \n",
       "1                        0                       0                   0   \n",
       "2                        0                       0                   0   \n",
       "3                        0                       0                   0   \n",
       "4                        0                       0                   0   \n",
       "...                    ...                     ...                 ...   \n",
       "3049                     0                       0                   0   \n",
       "3050                     0                       0                   0   \n",
       "3051                     0                       0                   0   \n",
       "3052                     0                       0                   0   \n",
       "3053                     0                       0                   0   \n",
       "\n",
       "      is The Weinstein Company  is New Regency Pictures  \\\n",
       "0                            0                        0   \n",
       "1                            0                        0   \n",
       "2                            0                        0   \n",
       "3                            0                        0   \n",
       "4                            0                        0   \n",
       "...                        ...                      ...   \n",
       "3049                         0                        0   \n",
       "3050                         0                        0   \n",
       "3051                         0                        0   \n",
       "3052                         0                        0   \n",
       "3053                         0                        0   \n",
       "\n",
       "      is Legendary Pictures  is Spyglass Entertainment  \n",
       "0                         0                          0  \n",
       "1                         0                          0  \n",
       "2                         0                          0  \n",
       "3                         0                          0  \n",
       "4                         0                          0  \n",
       "...                     ...                        ...  \n",
       "3049                      0                          0  \n",
       "3050                      0                          0  \n",
       "3051                      0                          0  \n",
       "3052                      0                          0  \n",
       "3053                      0                          0  \n",
       "\n",
       "[3054 rows x 56 columns]"
      ]
     },
     "execution_count": 118,
     "metadata": {},
     "output_type": "execute_result"
    }
   ],
   "source": [
    "df"
   ]
  },
  {
   "cell_type": "code",
   "execution_count": 119,
   "id": "a0b573ad-d8f8-49f5-a346-007a87af449a",
   "metadata": {},
   "outputs": [
    {
     "name": "stdout",
     "output_type": "stream",
     "text": [
      "(3054, 54) (3054, 2)\n"
     ]
    }
   ],
   "source": [
    "X_scaler = RobustScaler()\n",
    "y_scaler = RobustScaler()\n",
    "\n",
    "y = df[['revenue', 'vote_average']]#dependent variable\n",
    "X = df\n",
    "X = X.drop(['revenue', 'vote_average'], axis=1)\n",
    "\n",
    "X = X_scaler.fit_transform(X)\n",
    "y = y_scaler.fit_transform(y)\n",
    "\n",
    "print(X.shape, y.shape)"
   ]
  },
  {
   "cell_type": "code",
   "execution_count": 120,
   "id": "24a49cc9-e100-46b3-b50d-a0d1a56c8546",
   "metadata": {},
   "outputs": [],
   "source": [
    "X_train, X_test, y_train, y_test = train_test_split(X, y, test_size=0.3, random_state=4, shuffle=True)"
   ]
  },
  {
   "cell_type": "code",
   "execution_count": 121,
   "id": "8f7c758d-76c2-480e-8c31-9e1ba5442c4a",
   "metadata": {},
   "outputs": [],
   "source": [
    "# model = svm.SVR(kernel='rbf')\n",
    "# model.fit(X_train, [i[0] for i in y_train])\n",
    "# y_pred = model.predict(X_test)\n",
    "\n",
    "# y_pred = [[i,0] for i in y_pred]\n",
    "\n",
    "# y_pred = y_scaler.inverse_transform(y_pred)\n",
    "# y_test = y_scaler.inverse_transform(y_test)\n",
    "\n",
    "# print(\"MAPE of revenue: \", mean_absolute_percentage_error([i[0] for i in y_test], [i[0] for i in y_pred]))\n",
    "# print(\"MAPE of vote average: \", mean_absolute_percentage_error( [i[1] for i in y_test], [i[1] for i in y_pred]))"
   ]
  },
  {
   "cell_type": "code",
   "execution_count": 122,
   "id": "f47d0123-0861-4f16-a5b8-ebe9e3e33be0",
   "metadata": {},
   "outputs": [
    {
     "data": {
      "text/html": [
       "<style>#sk-container-id-2 {color: black;}#sk-container-id-2 pre{padding: 0;}#sk-container-id-2 div.sk-toggleable {background-color: white;}#sk-container-id-2 label.sk-toggleable__label {cursor: pointer;display: block;width: 100%;margin-bottom: 0;padding: 0.3em;box-sizing: border-box;text-align: center;}#sk-container-id-2 label.sk-toggleable__label-arrow:before {content: \"▸\";float: left;margin-right: 0.25em;color: #696969;}#sk-container-id-2 label.sk-toggleable__label-arrow:hover:before {color: black;}#sk-container-id-2 div.sk-estimator:hover label.sk-toggleable__label-arrow:before {color: black;}#sk-container-id-2 div.sk-toggleable__content {max-height: 0;max-width: 0;overflow: hidden;text-align: left;background-color: #f0f8ff;}#sk-container-id-2 div.sk-toggleable__content pre {margin: 0.2em;color: black;border-radius: 0.25em;background-color: #f0f8ff;}#sk-container-id-2 input.sk-toggleable__control:checked~div.sk-toggleable__content {max-height: 200px;max-width: 100%;overflow: auto;}#sk-container-id-2 input.sk-toggleable__control:checked~label.sk-toggleable__label-arrow:before {content: \"▾\";}#sk-container-id-2 div.sk-estimator input.sk-toggleable__control:checked~label.sk-toggleable__label {background-color: #d4ebff;}#sk-container-id-2 div.sk-label input.sk-toggleable__control:checked~label.sk-toggleable__label {background-color: #d4ebff;}#sk-container-id-2 input.sk-hidden--visually {border: 0;clip: rect(1px 1px 1px 1px);clip: rect(1px, 1px, 1px, 1px);height: 1px;margin: -1px;overflow: hidden;padding: 0;position: absolute;width: 1px;}#sk-container-id-2 div.sk-estimator {font-family: monospace;background-color: #f0f8ff;border: 1px dotted black;border-radius: 0.25em;box-sizing: border-box;margin-bottom: 0.5em;}#sk-container-id-2 div.sk-estimator:hover {background-color: #d4ebff;}#sk-container-id-2 div.sk-parallel-item::after {content: \"\";width: 100%;border-bottom: 1px solid gray;flex-grow: 1;}#sk-container-id-2 div.sk-label:hover label.sk-toggleable__label {background-color: #d4ebff;}#sk-container-id-2 div.sk-serial::before {content: \"\";position: absolute;border-left: 1px solid gray;box-sizing: border-box;top: 0;bottom: 0;left: 50%;z-index: 0;}#sk-container-id-2 div.sk-serial {display: flex;flex-direction: column;align-items: center;background-color: white;padding-right: 0.2em;padding-left: 0.2em;position: relative;}#sk-container-id-2 div.sk-item {position: relative;z-index: 1;}#sk-container-id-2 div.sk-parallel {display: flex;align-items: stretch;justify-content: center;background-color: white;position: relative;}#sk-container-id-2 div.sk-item::before, #sk-container-id-2 div.sk-parallel-item::before {content: \"\";position: absolute;border-left: 1px solid gray;box-sizing: border-box;top: 0;bottom: 0;left: 50%;z-index: -1;}#sk-container-id-2 div.sk-parallel-item {display: flex;flex-direction: column;z-index: 1;position: relative;background-color: white;}#sk-container-id-2 div.sk-parallel-item:first-child::after {align-self: flex-end;width: 50%;}#sk-container-id-2 div.sk-parallel-item:last-child::after {align-self: flex-start;width: 50%;}#sk-container-id-2 div.sk-parallel-item:only-child::after {width: 0;}#sk-container-id-2 div.sk-dashed-wrapped {border: 1px dashed gray;margin: 0 0.4em 0.5em 0.4em;box-sizing: border-box;padding-bottom: 0.4em;background-color: white;}#sk-container-id-2 div.sk-label label {font-family: monospace;font-weight: bold;display: inline-block;line-height: 1.2em;}#sk-container-id-2 div.sk-label-container {text-align: center;}#sk-container-id-2 div.sk-container {/* jupyter's `normalize.less` sets `[hidden] { display: none; }` but bootstrap.min.css set `[hidden] { display: none !important; }` so we also need the `!important` here to be able to override the default hidden behavior on the sphinx rendered scikit-learn.org. See: https://github.com/scikit-learn/scikit-learn/issues/21755 */display: inline-block !important;position: relative;}#sk-container-id-2 div.sk-text-repr-fallback {display: none;}</style><div id=\"sk-container-id-2\" class=\"sk-top-container\"><div class=\"sk-text-repr-fallback\"><pre>RandomForestRegressor(max_depth=30, n_estimators=2000, random_state=0)</pre><b>In a Jupyter environment, please rerun this cell to show the HTML representation or trust the notebook. <br />On GitHub, the HTML representation is unable to render, please try loading this page with nbviewer.org.</b></div><div class=\"sk-container\" hidden><div class=\"sk-item\"><div class=\"sk-estimator sk-toggleable\"><input class=\"sk-toggleable__control sk-hidden--visually\" id=\"sk-estimator-id-2\" type=\"checkbox\" checked><label for=\"sk-estimator-id-2\" class=\"sk-toggleable__label sk-toggleable__label-arrow\">RandomForestRegressor</label><div class=\"sk-toggleable__content\"><pre>RandomForestRegressor(max_depth=30, n_estimators=2000, random_state=0)</pre></div></div></div></div></div>"
      ],
      "text/plain": [
       "RandomForestRegressor(max_depth=30, n_estimators=2000, random_state=0)"
      ]
     },
     "execution_count": 122,
     "metadata": {},
     "output_type": "execute_result"
    }
   ],
   "source": [
    "from sklearn.ensemble import RandomForestRegressor\n",
    "regr = RandomForestRegressor(n_estimators=2000, max_depth=30, random_state=0)\n",
    "regr.fit(X_train, y_train)"
   ]
  },
  {
   "cell_type": "code",
   "execution_count": 123,
   "id": "b08f1a56-1c24-4fe0-a149-7a7399a3f5ee",
   "metadata": {},
   "outputs": [],
   "source": [
    "y_pred = regr.predict(X_test)"
   ]
  },
  {
   "cell_type": "code",
   "execution_count": 124,
   "id": "f9c4902f-4d0e-4349-a440-bcc033b1a73f",
   "metadata": {},
   "outputs": [
    {
     "data": {
      "text/plain": [
       "array([[-0.1273098 , -0.77996888],\n",
       "       [-0.13381581, -0.71286364],\n",
       "       [ 3.05686491,  0.122     ],\n",
       "       ...,\n",
       "       [ 0.22522884,  0.19336364],\n",
       "       [-0.07697449,  0.449     ],\n",
       "       [ 2.83862077,  0.32172727]])"
      ]
     },
     "execution_count": 124,
     "metadata": {},
     "output_type": "execute_result"
    }
   ],
   "source": [
    "y_pred"
   ]
  },
  {
   "cell_type": "code",
   "execution_count": 125,
   "id": "1034fc05-fa67-4a19-a79f-50d583440cc1",
   "metadata": {},
   "outputs": [
    {
     "data": {
      "text/plain": [
       "array([[ 0.50200778, -1.27272727],\n",
       "       [-0.34499229, -1.81818182],\n",
       "       [ 3.47327606,  0.27272727],\n",
       "       ...,\n",
       "       [-0.03310264,  0.54545455],\n",
       "       [-0.19781062,  0.09090909],\n",
       "       [ 4.01488277, -0.45454545]])"
      ]
     },
     "execution_count": 125,
     "metadata": {},
     "output_type": "execute_result"
    }
   ],
   "source": [
    "y_test"
   ]
  },
  {
   "cell_type": "code",
   "execution_count": 126,
   "id": "623517d4-8c5d-47ff-b4b1-52ca808a1f82",
   "metadata": {},
   "outputs": [],
   "source": [
    "y_pred = y_scaler.inverse_transform(y_pred)\n",
    "y_test = y_scaler.inverse_transform(y_test)"
   ]
  },
  {
   "cell_type": "code",
   "execution_count": 127,
   "id": "c96c7a00-3f1d-4519-bb04-7fa1ff6f8b8b",
   "metadata": {},
   "outputs": [
    {
     "name": "stdout",
     "output_type": "stream",
     "text": [
      "MAPE of revenue:  4.096454335040948\n",
      "MAPE of vote average:  0.07887300524773809\n"
     ]
    }
   ],
   "source": [
    "print(\"MAPE of revenue: \", mean_absolute_percentage_error([i[0] for i in y_test], [i[0] for i in y_pred]))\n",
    "print(\"MAPE of vote average: \", mean_absolute_percentage_error( [i[1] for i in y_test], [i[1] for i in y_pred]))"
   ]
  },
  {
   "cell_type": "code",
   "execution_count": 128,
   "id": "492617bb-303c-4586-b069-4df3909608c5",
   "metadata": {},
   "outputs": [
    {
     "name": "stdout",
     "output_type": "stream",
     "text": [
      "MAPE of revenue:  6.761468037054388\n",
      "MAPE of vote average:  0.08491233125946553\n"
     ]
    }
   ],
   "source": [
    "from sklearn import linear_model\n",
    "\n",
    "regr = linear_model.LinearRegression()\n",
    "regr.fit(X_train, y_train)\n",
    "y_pred = regr.predict(X_test)\n",
    "\n",
    "y_pred = y_scaler.inverse_transform(y_pred)\n",
    "# y_test = y_scaler.inverse_transform(y_test)\n",
    "\n",
    "print(\"MAPE of revenue: \", mean_absolute_percentage_error([i[0] for i in y_test], [i[0] for i in y_pred]))\n",
    "print(\"MAPE of vote average: \", mean_absolute_percentage_error( [i[1] for i in y_test], [i[1] for i in y_pred]))"
   ]
  },
  {
   "cell_type": "code",
   "execution_count": 129,
   "id": "eaf06fbe-69a4-4d25-9ae2-1b7404092e70",
   "metadata": {},
   "outputs": [
    {
     "name": "stdout",
     "output_type": "stream",
     "text": [
      "MAPE of revenue:  3.0236449129614074\n",
      "MAPE of vote average:  0.1123606731969717\n"
     ]
    }
   ],
   "source": [
    "model = svm.SVR(kernel='rbf')\n",
    "model.fit(X_train, [i[0] for i in y_train])\n",
    "y_pred = model.predict(X_test)\n",
    "\n",
    "y_pred = [[i,0] for i in y_pred]\n",
    "\n",
    "y_pred = y_scaler.inverse_transform(y_pred)\n",
    "# y_test = y_scaler.inverse_transform(y_test)\n",
    "\n",
    "print(\"MAPE of revenue: \", mean_absolute_percentage_error([i[0] for i in y_test], [i[0] for i in y_pred]))\n",
    "print(\"MAPE of vote average: \", mean_absolute_percentage_error( [i[1] for i in y_test], [i[1] for i in y_pred]))"
   ]
  },
  {
   "cell_type": "code",
   "execution_count": null,
   "id": "002341c2-5799-4205-a2b6-e4277fd2f454",
   "metadata": {},
   "outputs": [],
   "source": []
  },
  {
   "cell_type": "code",
   "execution_count": null,
   "id": "deb0fa8c-bf93-40de-8279-2e1a4fb11efb",
   "metadata": {},
   "outputs": [],
   "source": []
  }
 ],
 "metadata": {
  "kernelspec": {
   "display_name": "Python 3 (ipykernel)",
   "language": "python",
   "name": "python3"
  },
  "language_info": {
   "codemirror_mode": {
    "name": "ipython",
    "version": 3
   },
   "file_extension": ".py",
   "mimetype": "text/x-python",
   "name": "python",
   "nbconvert_exporter": "python",
   "pygments_lexer": "ipython3",
   "version": "3.11.5"
  }
 },
 "nbformat": 4,
 "nbformat_minor": 5
}
